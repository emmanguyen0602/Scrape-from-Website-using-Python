{
 "cells": [
  {
   "cell_type": "code",
   "execution_count": 1,
   "id": "5f6d1a80",
   "metadata": {},
   "outputs": [],
   "source": [
    "from selenium import webdriver\n",
    "from selenium.webdriver.common.by import By\n",
    "from selenium.webdriver.support.ui import WebDriverWait\n",
    "from selenium.webdriver.support import expected_conditions as EC\n",
    "from selenium.common.exceptions import TimeoutException\n",
    "from selenium.webdriver.chrome.service import Service\n",
    "from selenium.webdriver.chrome.options import Options\n",
    "from seleniumwire import webdriver as wire_webdriver\n",
    "from selenium.common.exceptions import NoSuchElementException\n",
    "\n",
    "import pandas as pd\n",
    "import time\n",
    "import dbm"
   ]
  },
  {
   "cell_type": "code",
   "execution_count": 18,
   "id": "c524a04c",
   "metadata": {},
   "outputs": [],
   "source": [
    "from datetime import datetime"
   ]
  },
  {
   "cell_type": "code",
   "execution_count": 44,
   "id": "f560ebec",
   "metadata": {},
   "outputs": [],
   "source": [
    "from datetime import date"
   ]
  },
  {
   "cell_type": "code",
   "execution_count": 2,
   "id": "ee191dcd",
   "metadata": {},
   "outputs": [],
   "source": [
    "# Declare browser service\n",
    "s = Service('C://Users//hantt3//chromedriver_win32//chromedriver.exe')\n",
    "\n",
    "# Configure Chrome options\n",
    "options = Options()\n",
    "options.add_argument('--ignore-ssl-errors=yes')\n",
    "options.add_argument('--ignore-certificate-errors')\n",
    "\n",
    "# Create the webdriver instance\n",
    "driver = wire_webdriver.Chrome(service=s, options=options)\n",
    "\n",
    "driver.get('https://www.lazada.sg/#')"
   ]
  },
  {
   "cell_type": "code",
   "execution_count": 3,
   "id": "f10aa2cd",
   "metadata": {},
   "outputs": [],
   "source": [
    "#click on the flash sale section to scrape products is for flash sale\n",
    "flashsale = driver.find_element(By.CLASS_NAME, 'card-fs-content-button')\n",
    "flashsale.click()"
   ]
  },
  {
   "cell_type": "code",
   "execution_count": 4,
   "id": "bdef6577",
   "metadata": {},
   "outputs": [],
   "source": [
    "# Define a variable to track the presence of the \"Load More\" button\n",
    "load_more_present = True\n",
    "\n",
    "while load_more_present:\n",
    "    try:\n",
    "        # Find all \"Load More\" buttons on the page\n",
    "        load_more_buttons = driver.find_elements(By.CSS_SELECTOR, 'a.button.J_LoadMoreButton[data-camp-index=\"0\"]')\n",
    "\n",
    "        # If no \"Load More\" button is found, break out of the loop\n",
    "        if len(load_more_buttons) == 0:\n",
    "            break\n",
    "\n",
    "        # Iterate through each button and click on it\n",
    "        for button in load_more_buttons:\n",
    "            button.click()\n",
    "\n",
    "        # Wait for some time (if needed) to allow the new items to load\n",
    "        time.sleep(3)  # Adjust the sleep duration as needed\n",
    "\n",
    "    except NoSuchElementException:\n",
    "        # If no \"Load More\" button is found, set the variable to False to exit the loop\n",
    "        load_more_present = False\n"
   ]
  },
  {
   "cell_type": "code",
   "execution_count": 11,
   "id": "ff26b0b1",
   "metadata": {},
   "outputs": [],
   "source": [
    "title, sale_price, origin_price, discount, image = [], [], [], [], []\n",
    "product_containers = driver.find_elements(By.CSS_SELECTOR,'.flash-unit.card-hover.pull-left.false.no-margin-right')\n",
    "for container in product_containers:\n",
    "    titles = container.find_elements( By.CLASS_NAME, 'sale-title')\n",
    "    title += [s.text for s in titles] \n",
    "    sale_prices = container.find_elements(By.CLASS_NAME, 'sale-price')\n",
    "    sale_price += [s.text for s in sale_prices]\n",
    "    origin_prices = container.find_elements(By.CLASS_NAME, 'origin-price-value')\n",
    "    origin_price += [s.text for s in origin_prices]\n",
    "    discounts = container.find_elements(By.CLASS_NAME, 'discount')\n",
    "    discount += [s.text for s in discounts ]\n",
    "    image_elements = container.find_elements(By.CSS_SELECTOR, 'div.flash-unit-image img.image')\n",
    "    image += [s.get_attribute(\"src\") for s in image_elements]\n"
   ]
  },
  {
   "cell_type": "code",
   "execution_count": 12,
   "id": "9f2e10df",
   "metadata": {},
   "outputs": [],
   "source": [
    "df = pd.DataFrame(list(zip(title, sale_price, origin_price, discount, image)), \n",
    "                   columns = ['title', 'sale_price','origin_price', 'discount', 'image'])"
   ]
  },
  {
   "cell_type": "code",
   "execution_count": 19,
   "id": "148f7c62",
   "metadata": {},
   "outputs": [],
   "source": [
    "# Get the current datetime\n",
    "current_datetime = datetime.today()\n",
    "\n",
    "# Add a new column with the current datetime\n",
    "df['Timestamp'] = current_datetime"
   ]
  },
  {
   "cell_type": "code",
   "execution_count": 47,
   "id": "304a6e74",
   "metadata": {},
   "outputs": [],
   "source": [
    "df = df.drop('Timestamp', axis=1)"
   ]
  },
  {
   "cell_type": "code",
   "execution_count": 45,
   "id": "f3891173",
   "metadata": {},
   "outputs": [],
   "source": [
    "current_date = date.today()\n",
    "\n",
    "df['Date'] = current_date"
   ]
  },
  {
   "cell_type": "code",
   "execution_count": 48,
   "id": "0c1936f4",
   "metadata": {},
   "outputs": [
    {
     "data": {
      "text/html": [
       "<div>\n",
       "<style scoped>\n",
       "    .dataframe tbody tr th:only-of-type {\n",
       "        vertical-align: middle;\n",
       "    }\n",
       "\n",
       "    .dataframe tbody tr th {\n",
       "        vertical-align: top;\n",
       "    }\n",
       "\n",
       "    .dataframe thead th {\n",
       "        text-align: right;\n",
       "    }\n",
       "</style>\n",
       "<table border=\"1\" class=\"dataframe\">\n",
       "  <thead>\n",
       "    <tr style=\"text-align: right;\">\n",
       "      <th></th>\n",
       "      <th>title</th>\n",
       "      <th>sale_price</th>\n",
       "      <th>origin_price</th>\n",
       "      <th>discount</th>\n",
       "      <th>image</th>\n",
       "      <th>Date</th>\n",
       "    </tr>\n",
       "  </thead>\n",
       "  <tbody>\n",
       "    <tr>\n",
       "      <th>71</th>\n",
       "      <td>[EXCLUSIVE SALES] AKEMI TENCEL™ Modal Ardent 8...</td>\n",
       "      <td>69.30</td>\n",
       "      <td>99.00</td>\n",
       "      <td>-30</td>\n",
       "      <td>https://lzd-img-global.slatic.net/g/p/6983b5f2...</td>\n",
       "      <td>2023-06-27</td>\n",
       "    </tr>\n",
       "    <tr>\n",
       "      <th>72</th>\n",
       "      <td>Sunveno Baby Stroller Organizer Bag Infant Pra...</td>\n",
       "      <td>16.82</td>\n",
       "      <td>31.71</td>\n",
       "      <td>-47</td>\n",
       "      <td>https://lzd-img-global.slatic.net/g/p/5b2295cd...</td>\n",
       "      <td>2023-06-27</td>\n",
       "    </tr>\n",
       "    <tr>\n",
       "      <th>73</th>\n",
       "      <td>Simplus Air Fryer 5L/3.5L Nonstick Detachable ...</td>\n",
       "      <td>45.90</td>\n",
       "      <td>139.80</td>\n",
       "      <td>-67</td>\n",
       "      <td>https://lzd-img-global.slatic.net/g/p/7202ac5c...</td>\n",
       "      <td>2023-06-27</td>\n",
       "    </tr>\n",
       "    <tr>\n",
       "      <th>74</th>\n",
       "      <td>Kiribai/ Kincho Heat Pack/ Heat pad/ Hand Warm...</td>\n",
       "      <td>9.50</td>\n",
       "      <td>10.90</td>\n",
       "      <td>-13</td>\n",
       "      <td>https://lzd-img-global.slatic.net/g/p/1356ff62...</td>\n",
       "      <td>2023-06-27</td>\n",
       "    </tr>\n",
       "    <tr>\n",
       "      <th>75</th>\n",
       "      <td>Chuga Jeju Series Plum Wine Soju</td>\n",
       "      <td>8.50</td>\n",
       "      <td>15.04</td>\n",
       "      <td>-43</td>\n",
       "      <td>https://lzd-img-global.slatic.net/g/p/2a8c4546...</td>\n",
       "      <td>2023-06-27</td>\n",
       "    </tr>\n",
       "  </tbody>\n",
       "</table>\n",
       "</div>"
      ],
      "text/plain": [
       "                                                title  sale_price  \\\n",
       "71  [EXCLUSIVE SALES] AKEMI TENCEL™ Modal Ardent 8...       69.30   \n",
       "72  Sunveno Baby Stroller Organizer Bag Infant Pra...       16.82   \n",
       "73  Simplus Air Fryer 5L/3.5L Nonstick Detachable ...       45.90   \n",
       "74  Kiribai/ Kincho Heat Pack/ Heat pad/ Hand Warm...        9.50   \n",
       "75                   Chuga Jeju Series Plum Wine Soju        8.50   \n",
       "\n",
       "    origin_price  discount                                              image  \\\n",
       "71         99.00       -30  https://lzd-img-global.slatic.net/g/p/6983b5f2...   \n",
       "72         31.71       -47  https://lzd-img-global.slatic.net/g/p/5b2295cd...   \n",
       "73        139.80       -67  https://lzd-img-global.slatic.net/g/p/7202ac5c...   \n",
       "74         10.90       -13  https://lzd-img-global.slatic.net/g/p/1356ff62...   \n",
       "75         15.04       -43  https://lzd-img-global.slatic.net/g/p/2a8c4546...   \n",
       "\n",
       "          Date  \n",
       "71  2023-06-27  \n",
       "72  2023-06-27  \n",
       "73  2023-06-27  \n",
       "74  2023-06-27  \n",
       "75  2023-06-27  "
      ]
     },
     "execution_count": 48,
     "metadata": {},
     "output_type": "execute_result"
    }
   ],
   "source": [
    "df.tail()"
   ]
  },
  {
   "cell_type": "code",
   "execution_count": 22,
   "id": "150b3e8d",
   "metadata": {},
   "outputs": [
    {
     "data": {
      "text/plain": [
       "title                   object\n",
       "sale_price              object\n",
       "origin_price            object\n",
       "discount                object\n",
       "image                   object\n",
       "Timestamp       datetime64[ns]\n",
       "dtype: object"
      ]
     },
     "execution_count": 22,
     "metadata": {},
     "output_type": "execute_result"
    }
   ],
   "source": [
    "df.dtypes"
   ]
  },
  {
   "cell_type": "code",
   "execution_count": 24,
   "id": "2a4502b8",
   "metadata": {},
   "outputs": [
    {
     "name": "stderr",
     "output_type": "stream",
     "text": [
      "C:\\Users\\hantt3\\AppData\\Local\\Temp\\ipykernel_12900\\3241118235.py:2: FutureWarning: The default value of regex will change from True to False in a future version. In addition, single character regular expressions will *not* be treated as literal strings when regex=True.\n",
      "  df['sale_price'] = df['sale_price'].str.replace('$', '')  # Remove the dollar sign\n",
      "C:\\Users\\hantt3\\AppData\\Local\\Temp\\ipykernel_12900\\3241118235.py:3: FutureWarning: The default value of regex will change from True to False in a future version. In addition, single character regular expressions will *not* be treated as literal strings when regex=True.\n",
      "  df['origin_price'] = df['origin_price'].str.replace('$', '')\n"
     ]
    }
   ],
   "source": [
    "# Clean and convert the \"sale_price\", 'origin_price' column to numeric values\n",
    "df['sale_price'] = df['sale_price'].str.replace('$', '')  # Remove the dollar sign\n",
    "df['origin_price'] = df['origin_price'].str.replace('$', '')\n",
    "df['sale_price'] = pd.to_numeric(df['sale_price'], errors='coerce')  # Convert to numeric values\n",
    "df['origin_price'] = pd.to_numeric(df['origin_price'], errors='coerce')\n",
    "\n",
    "# Clean and convert the \"discount\" column to numeric values\n",
    "df['discount'] = df['discount'].str.replace('%', '')  # Remove the percentage sign\n",
    "df['discount'] = pd.to_numeric(df['discount'], errors='coerce')  # Convert to numeric values"
   ]
  },
  {
   "cell_type": "code",
   "execution_count": 25,
   "id": "f98fd99b",
   "metadata": {},
   "outputs": [
    {
     "data": {
      "text/plain": [
       "title                   object\n",
       "sale_price             float64\n",
       "origin_price           float64\n",
       "discount                 int64\n",
       "image                   object\n",
       "Timestamp       datetime64[ns]\n",
       "dtype: object"
      ]
     },
     "execution_count": 25,
     "metadata": {},
     "output_type": "execute_result"
    }
   ],
   "source": [
    "df.dtypes"
   ]
  },
  {
   "cell_type": "code",
   "execution_count": 27,
   "id": "12551232",
   "metadata": {},
   "outputs": [
    {
     "data": {
      "text/plain": [
       "title           Flagship | Dibea Diamond DC22 3-in-1 Wet Dry C...\n",
       "sale_price                                                  279.0\n",
       "origin_price                                                853.0\n",
       "discount                                                      -67\n",
       "image           https://lzd-img-global.slatic.net/g/p/740f9514...\n",
       "Timestamp                              2023-06-27 11:52:04.836948\n",
       "Name: 24, dtype: object"
      ]
     },
     "execution_count": 27,
     "metadata": {},
     "output_type": "execute_result"
    }
   ],
   "source": [
    "# Find the index of the row with the highest price in the \"origin\" column\n",
    "max_price_index = df['origin_price'].idxmax()\n",
    "\n",
    "# Get the product with the highest price\n",
    "product_with_highest_price = df.loc[max_price_index]\n",
    "\n",
    "product_with_highest_price\n"
   ]
  },
  {
   "cell_type": "code",
   "execution_count": 29,
   "id": "091fbf82",
   "metadata": {},
   "outputs": [
    {
     "data": {
      "text/html": [
       "<div>\n",
       "<style scoped>\n",
       "    .dataframe tbody tr th:only-of-type {\n",
       "        vertical-align: middle;\n",
       "    }\n",
       "\n",
       "    .dataframe tbody tr th {\n",
       "        vertical-align: top;\n",
       "    }\n",
       "\n",
       "    .dataframe thead th {\n",
       "        text-align: right;\n",
       "    }\n",
       "</style>\n",
       "<table border=\"1\" class=\"dataframe\">\n",
       "  <thead>\n",
       "    <tr style=\"text-align: right;\">\n",
       "      <th></th>\n",
       "      <th>title</th>\n",
       "      <th>sale_price</th>\n",
       "      <th>origin_price</th>\n",
       "      <th>discount</th>\n",
       "      <th>image</th>\n",
       "      <th>Timestamp</th>\n",
       "    </tr>\n",
       "  </thead>\n",
       "  <tbody>\n",
       "    <tr>\n",
       "      <th>71</th>\n",
       "      <td>[EXCLUSIVE SALES] AKEMI TENCEL™ Modal Ardent 8...</td>\n",
       "      <td>69.30</td>\n",
       "      <td>99.00</td>\n",
       "      <td>-30</td>\n",
       "      <td>https://lzd-img-global.slatic.net/g/p/6983b5f2...</td>\n",
       "      <td>2023-06-27 11:52:04.836948</td>\n",
       "    </tr>\n",
       "    <tr>\n",
       "      <th>72</th>\n",
       "      <td>Sunveno Baby Stroller Organizer Bag Infant Pra...</td>\n",
       "      <td>16.82</td>\n",
       "      <td>31.71</td>\n",
       "      <td>-47</td>\n",
       "      <td>https://lzd-img-global.slatic.net/g/p/5b2295cd...</td>\n",
       "      <td>2023-06-27 11:52:04.836948</td>\n",
       "    </tr>\n",
       "    <tr>\n",
       "      <th>73</th>\n",
       "      <td>Simplus Air Fryer 5L/3.5L Nonstick Detachable ...</td>\n",
       "      <td>45.90</td>\n",
       "      <td>139.80</td>\n",
       "      <td>-67</td>\n",
       "      <td>https://lzd-img-global.slatic.net/g/p/7202ac5c...</td>\n",
       "      <td>2023-06-27 11:52:04.836948</td>\n",
       "    </tr>\n",
       "    <tr>\n",
       "      <th>74</th>\n",
       "      <td>Kiribai/ Kincho Heat Pack/ Heat pad/ Hand Warm...</td>\n",
       "      <td>9.50</td>\n",
       "      <td>10.90</td>\n",
       "      <td>-13</td>\n",
       "      <td>https://lzd-img-global.slatic.net/g/p/1356ff62...</td>\n",
       "      <td>2023-06-27 11:52:04.836948</td>\n",
       "    </tr>\n",
       "    <tr>\n",
       "      <th>75</th>\n",
       "      <td>Chuga Jeju Series Plum Wine Soju</td>\n",
       "      <td>8.50</td>\n",
       "      <td>15.04</td>\n",
       "      <td>-43</td>\n",
       "      <td>https://lzd-img-global.slatic.net/g/p/2a8c4546...</td>\n",
       "      <td>2023-06-27 11:52:04.836948</td>\n",
       "    </tr>\n",
       "  </tbody>\n",
       "</table>\n",
       "</div>"
      ],
      "text/plain": [
       "                                                title  sale_price  \\\n",
       "71  [EXCLUSIVE SALES] AKEMI TENCEL™ Modal Ardent 8...       69.30   \n",
       "72  Sunveno Baby Stroller Organizer Bag Infant Pra...       16.82   \n",
       "73  Simplus Air Fryer 5L/3.5L Nonstick Detachable ...       45.90   \n",
       "74  Kiribai/ Kincho Heat Pack/ Heat pad/ Hand Warm...        9.50   \n",
       "75                   Chuga Jeju Series Plum Wine Soju        8.50   \n",
       "\n",
       "    origin_price  discount                                              image  \\\n",
       "71         99.00       -30  https://lzd-img-global.slatic.net/g/p/6983b5f2...   \n",
       "72         31.71       -47  https://lzd-img-global.slatic.net/g/p/5b2295cd...   \n",
       "73        139.80       -67  https://lzd-img-global.slatic.net/g/p/7202ac5c...   \n",
       "74         10.90       -13  https://lzd-img-global.slatic.net/g/p/1356ff62...   \n",
       "75         15.04       -43  https://lzd-img-global.slatic.net/g/p/2a8c4546...   \n",
       "\n",
       "                    Timestamp  \n",
       "71 2023-06-27 11:52:04.836948  \n",
       "72 2023-06-27 11:52:04.836948  \n",
       "73 2023-06-27 11:52:04.836948  \n",
       "74 2023-06-27 11:52:04.836948  \n",
       "75 2023-06-27 11:52:04.836948  "
      ]
     },
     "execution_count": 29,
     "metadata": {},
     "output_type": "execute_result"
    }
   ],
   "source": [
    "df.tail()"
   ]
  },
  {
   "cell_type": "markdown",
   "id": "4c6bbdd3",
   "metadata": {},
   "source": [
    "## Push data into MYSQL "
   ]
  },
  {
   "cell_type": "code",
   "execution_count": 28,
   "id": "c76a363b",
   "metadata": {},
   "outputs": [],
   "source": [
    "import mysql.connector"
   ]
  },
  {
   "cell_type": "code",
   "execution_count": 40,
   "id": "f922d67e",
   "metadata": {},
   "outputs": [
    {
     "name": "stdout",
     "output_type": "stream",
     "text": [
      "Collecting pymysql\n",
      "  Downloading PyMySQL-1.1.0-py3-none-any.whl (44 kB)\n",
      "     -------------------------------------- 44.8/44.8 kB 750.6 kB/s eta 0:00:00\n",
      "Installing collected packages: pymysql\n",
      "Successfully installed pymysql-1.1.0\n"
     ]
    },
    {
     "name": "stderr",
     "output_type": "stream",
     "text": [
      "WARNING: Ignoring invalid distribution -ysql-connector-python (c:\\users\\hantt3\\appdata\\local\\anaconda3\\lib\\site-packages)\n",
      "WARNING: Ignoring invalid distribution -ysql-connector-python (c:\\users\\hantt3\\appdata\\local\\anaconda3\\lib\\site-packages)\n",
      "WARNING: Ignoring invalid distribution -ysql-connector-python (c:\\users\\hantt3\\appdata\\local\\anaconda3\\lib\\site-packages)\n",
      "WARNING: Ignoring invalid distribution -ysql-connector-python (c:\\users\\hantt3\\appdata\\local\\anaconda3\\lib\\site-packages)\n",
      "WARNING: Ignoring invalid distribution -ysql-connector-python (c:\\users\\hantt3\\appdata\\local\\anaconda3\\lib\\site-packages)\n",
      "WARNING: Ignoring invalid distribution -ysql-connector-python (c:\\users\\hantt3\\appdata\\local\\anaconda3\\lib\\site-packages)\n",
      "WARNING: Ignoring invalid distribution -ysql-connector-python (c:\\users\\hantt3\\appdata\\local\\anaconda3\\lib\\site-packages)\n"
     ]
    }
   ],
   "source": [
    "!pip install pymysql"
   ]
  },
  {
   "cell_type": "code",
   "execution_count": 42,
   "id": "4c9167c7",
   "metadata": {},
   "outputs": [],
   "source": [
    "# Import pymysql module\n",
    "import pymysql\n",
    "\n",
    "# Connect to the database\n",
    "connection = pymysql.connect(host='localhost',\n",
    "                             user='root',\n",
    "                             password='12345678',\n",
    "                             db='db')\n",
    "                             \n",
    "cursor = connection.cursor()"
   ]
  },
  {
   "cell_type": "code",
   "execution_count": 73,
   "id": "85453799",
   "metadata": {},
   "outputs": [],
   "source": [
    "sql = \"CREATE TABLE IF NOT EXISTS lazada_flashsale(title VARCHAR(255) DEFAULT NULL, sale_price FLOAT DEFAULT NULL, origin_price FLOAT DEFAULT NULL, discount FLOAT DEFAULT NULL, image VARCHAR(255) DEFAULT NULL, Date date)\"\n",
    "\n",
    "# Executing Query\n",
    "cursor.execute(sql)\n",
    "\n",
    "# Commit the Query\n",
    "connection.commit()"
   ]
  },
  {
   "cell_type": "code",
   "execution_count": 63,
   "id": "ecb9823e",
   "metadata": {},
   "outputs": [],
   "source": [
    "from sqlalchemy import create_engine"
   ]
  },
  {
   "cell_type": "code",
   "execution_count": 64,
   "id": "a33dbe07",
   "metadata": {},
   "outputs": [],
   "source": [
    "engine = create_engine('mysql+pymysql://', creator=lambda: connection)"
   ]
  },
  {
   "cell_type": "code",
   "execution_count": 65,
   "id": "2ca2a9ca",
   "metadata": {},
   "outputs": [],
   "source": [
    "table_name = 'lazada_flashsale'"
   ]
  },
  {
   "cell_type": "code",
   "execution_count": 74,
   "id": "9a7805f4",
   "metadata": {},
   "outputs": [
    {
     "data": {
      "text/plain": [
       "76"
      ]
     },
     "execution_count": 74,
     "metadata": {},
     "output_type": "execute_result"
    }
   ],
   "source": [
    "df.to_sql(name=table_name, con=engine, if_exists='append', index=False)"
   ]
  }
 ],
 "metadata": {
  "kernelspec": {
   "display_name": "Python 3 (ipykernel)",
   "language": "python",
   "name": "python3"
  },
  "language_info": {
   "codemirror_mode": {
    "name": "ipython",
    "version": 3
   },
   "file_extension": ".py",
   "mimetype": "text/x-python",
   "name": "python",
   "nbconvert_exporter": "python",
   "pygments_lexer": "ipython3",
   "version": "3.10.9"
  }
 },
 "nbformat": 4,
 "nbformat_minor": 5
}
