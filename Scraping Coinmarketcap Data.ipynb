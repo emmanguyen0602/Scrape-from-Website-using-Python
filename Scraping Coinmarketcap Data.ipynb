{
 "cells": [
  {
   "cell_type": "code",
   "execution_count": 1,
   "id": "f3ad302a",
   "metadata": {},
   "outputs": [],
   "source": [
    "from bs4 import BeautifulSoup\n",
    "import requests\n",
    "import pandas as pd\n",
    "import json \n",
    "import time"
   ]
  },
  {
   "cell_type": "code",
   "execution_count": 9,
   "id": "e89f9e5d",
   "metadata": {},
   "outputs": [],
   "source": [
    "import numpy as np\n",
    "from selenium import webdriver\n",
    "from selenium.webdriver.chrome.service import Service\n",
    "\n",
    "from selenium.common.exceptions import NoSuchElementException, ElementNotInteractableException\n",
    "from selenium.webdriver.common.by import By"
   ]
  },
  {
   "cell_type": "code",
   "execution_count": 161,
   "id": "2c349ce9",
   "metadata": {},
   "outputs": [],
   "source": [
    "s = Service('C://Users//hantt3//Downloads//chromedriver_win32')\n",
    "driver = webdriver.Chrome(service=s)"
   ]
  },
  {
   "cell_type": "markdown",
   "id": "65512139",
   "metadata": {},
   "source": [
    "**Handle pagination using xpath**"
   ]
  },
  {
   "cell_type": "code",
   "execution_count": 162,
   "id": "2bec239b",
   "metadata": {},
   "outputs": [],
   "source": [
    "def getCoinInfo(link):\n",
    "    driver.get(link)\n",
    "    count = 1\n",
    "    rank, name, price, market_cap, volumn, circulating_supply = [], [], [], [], [],[]\n",
    "    while True:\n",
    "        try:\n",
    "            print(\"Crawl Page \" + str(count))\n",
    "            screen_height = driver.execute_script(\"return window.screen.height;\")   # get the screen height of the web\n",
    "            i = 1\n",
    "\n",
    "            while True:\n",
    "                # scroll one screen height each time\n",
    "                driver.execute_script(\"window.scrollTo(0, {screen_height}*{i});\".format(screen_height=screen_height, i=i))  \n",
    "                i += 1\n",
    "                time.sleep(5)\n",
    "                # update scroll height each time after scrolled, as the scroll height can change after we scrolled the page\n",
    "                scroll_height = driver.execute_script(\"return document.body.scrollHeight;\")  \n",
    "                # Break the loop when the height we need to scroll to is larger than the total scroll height\n",
    "                if (screen_height) * i > scroll_height:\n",
    "                    break \n",
    "            \n",
    "            rank1 =  driver.find_elements(By.XPATH, '//table[@class=\"sc-beb003d5-3 ieTeVa cmc-table  \"]/tbody/tr/td[2]')\n",
    "            rank =  [s.text for s in rank1] + rank\n",
    "            name1 =  driver.find_elements(By.XPATH, '//table[@class=\"sc-beb003d5-3 ieTeVa cmc-table  \"]/tbody/tr/td[3]')\n",
    "            name =  [s.text for s in name1] + name\n",
    "            price1 =  driver.find_elements(By.XPATH, '//table[@class=\"sc-beb003d5-3 ieTeVa cmc-table  \"]/tbody/tr/td[4]')\n",
    "            price = [s.text for s in price1] + price\n",
    "            market_cap1 = driver.find_elements(By.XPATH, '//table[@class=\"sc-beb003d5-3 ieTeVa cmc-table  \"]/tbody/tr/td[8]')\n",
    "            market_cap =  [s.text for s in market_cap1] + market_cap\n",
    "            volumn1 =  driver.find_elements(By.XPATH, '//table[@class=\"sc-beb003d5-3 ieTeVa cmc-table  \"]/tbody/tr/td[9]')\n",
    "            volumn =  [s.text for s in volumn1] + volumn\n",
    "            circulating_supply1 =  driver.find_elements(By.XPATH, '//table[@class=\"sc-beb003d5-3 ieTeVa cmc-table  \"]/tbody/tr/td[10]')\n",
    "            circulating_supply =  [s.text for s in circulating_supply1] + circulating_supply\n",
    "    \n",
    "            next_pagination_cmt = driver.find_element(\"xpath\", \"/html/body/div[1]/div/div[1]/div[2]/div/div[1]/div[6]/div[1]/div/ul/li[10]/a\")\n",
    "            next_pagination_cmt.click()\n",
    "            print(\"Clicked on button next page!\")\n",
    "            time.sleep(5)\n",
    "            count += 1\n",
    "            #scrape only 2 page\n",
    "            if count == 3:\n",
    "                break\n",
    "        except ElementNotInteractableException:\n",
    "            print(\"Element Not Interactable Exception!\")\n",
    "            break\n",
    "    print(len(rank))\n",
    "    coinmarketcap1 = pd.DataFrame(list(zip(rank, name, price, market_cap, volumn, circulating_supply)),\n",
    "                        columns=['rank', 'name', 'price', 'market_cap', 'volumn (24h)', 'circulating_supply']) \n",
    "    return coinmarketcap1"
   ]
  },
  {
   "cell_type": "code",
   "execution_count": 163,
   "id": "6723850e",
   "metadata": {},
   "outputs": [
    {
     "name": "stdout",
     "output_type": "stream",
     "text": [
      "Crawl Page 1\n",
      "Clicked on button next page!\n",
      "Crawl Page 2\n",
      "Clicked on button next page!\n",
      "200\n"
     ]
    }
   ],
   "source": [
    "url = 'https://coinmarketcap.com/'\n",
    "df = getCoinInfo(url)\n",
    "driver.close()"
   ]
  },
  {
   "cell_type": "code",
   "execution_count": 164,
   "id": "3eec09e2",
   "metadata": {},
   "outputs": [
    {
     "data": {
      "text/plain": [
       "(200, 6)"
      ]
     },
     "execution_count": 164,
     "metadata": {},
     "output_type": "execute_result"
    }
   ],
   "source": [
    "df.shape"
   ]
  },
  {
   "cell_type": "code",
   "execution_count": 165,
   "id": "ff9ad830",
   "metadata": {},
   "outputs": [
    {
     "data": {
      "text/html": [
       "<div>\n",
       "<style scoped>\n",
       "    .dataframe tbody tr th:only-of-type {\n",
       "        vertical-align: middle;\n",
       "    }\n",
       "\n",
       "    .dataframe tbody tr th {\n",
       "        vertical-align: top;\n",
       "    }\n",
       "\n",
       "    .dataframe thead th {\n",
       "        text-align: right;\n",
       "    }\n",
       "</style>\n",
       "<table border=\"1\" class=\"dataframe\">\n",
       "  <thead>\n",
       "    <tr style=\"text-align: right;\">\n",
       "      <th></th>\n",
       "      <th>rank</th>\n",
       "      <th>name</th>\n",
       "      <th>price</th>\n",
       "      <th>market_cap</th>\n",
       "      <th>volumn (24h)</th>\n",
       "      <th>circulating_supply</th>\n",
       "    </tr>\n",
       "  </thead>\n",
       "  <tbody>\n",
       "    <tr>\n",
       "      <th>0</th>\n",
       "      <td>101</td>\n",
       "      <td>Nexo\\nNEXO</td>\n",
       "      <td>$0.6625</td>\n",
       "      <td>$371,038,730</td>\n",
       "      <td>$3,672,399\\n5,539,306 NEXO</td>\n",
       "      <td>560,000,011 NEXO</td>\n",
       "    </tr>\n",
       "    <tr>\n",
       "      <th>1</th>\n",
       "      <td>102</td>\n",
       "      <td>Oasis Network\\nROSE</td>\n",
       "      <td>$0.06167</td>\n",
       "      <td>$354,403,099</td>\n",
       "      <td>$39,448,613\\n639,830,432 ROSE</td>\n",
       "      <td>5,725,718,533 ROSE</td>\n",
       "    </tr>\n",
       "    <tr>\n",
       "      <th>2</th>\n",
       "      <td>103</td>\n",
       "      <td>Ethereum Name Service\\nENS</td>\n",
       "      <td>$12.00</td>\n",
       "      <td>$340,417,782</td>\n",
       "      <td>$36,260,187\\n3,020,878 ENS</td>\n",
       "      <td>28,337,389 ENS</td>\n",
       "    </tr>\n",
       "    <tr>\n",
       "      <th>3</th>\n",
       "      <td>104</td>\n",
       "      <td>Mask Network\\nMASK</td>\n",
       "      <td>$4.54</td>\n",
       "      <td>$336,683,254</td>\n",
       "      <td>$100,485,135\\n22,142,229 MASK</td>\n",
       "      <td>74,162,500 MASK</td>\n",
       "    </tr>\n",
       "    <tr>\n",
       "      <th>4</th>\n",
       "      <td>105</td>\n",
       "      <td>NEM\\nXEM</td>\n",
       "      <td>$0.0373</td>\n",
       "      <td>$335,597,571</td>\n",
       "      <td>$12,054,369\\n323,184,366 XEM</td>\n",
       "      <td>8,999,999,999 XEM</td>\n",
       "    </tr>\n",
       "  </tbody>\n",
       "</table>\n",
       "</div>"
      ],
      "text/plain": [
       "  rank                        name     price    market_cap  \\\n",
       "0  101                  Nexo\\nNEXO   $0.6625  $371,038,730   \n",
       "1  102         Oasis Network\\nROSE  $0.06167  $354,403,099   \n",
       "2  103  Ethereum Name Service\\nENS    $12.00  $340,417,782   \n",
       "3  104          Mask Network\\nMASK     $4.54  $336,683,254   \n",
       "4  105                    NEM\\nXEM   $0.0373  $335,597,571   \n",
       "\n",
       "                    volumn (24h)  circulating_supply  \n",
       "0     $3,672,399\\n5,539,306 NEXO    560,000,011 NEXO  \n",
       "1  $39,448,613\\n639,830,432 ROSE  5,725,718,533 ROSE  \n",
       "2     $36,260,187\\n3,020,878 ENS      28,337,389 ENS  \n",
       "3  $100,485,135\\n22,142,229 MASK     74,162,500 MASK  \n",
       "4   $12,054,369\\n323,184,366 XEM   8,999,999,999 XEM  "
      ]
     },
     "execution_count": 165,
     "metadata": {},
     "output_type": "execute_result"
    }
   ],
   "source": [
    "df.head()"
   ]
  },
  {
   "cell_type": "code",
   "execution_count": 172,
   "id": "f8bb8100",
   "metadata": {},
   "outputs": [],
   "source": [
    "df['rank']= df['rank'].astype(int)"
   ]
  },
  {
   "cell_type": "code",
   "execution_count": 173,
   "id": "97d5bf29",
   "metadata": {},
   "outputs": [],
   "source": [
    "df = df.sort_values(by='rank', ascending = True)"
   ]
  },
  {
   "cell_type": "code",
   "execution_count": 175,
   "id": "2de8b764",
   "metadata": {},
   "outputs": [],
   "source": [
    "df.set_index('rank', inplace = True)"
   ]
  },
  {
   "cell_type": "code",
   "execution_count": 176,
   "id": "97f2d8d2",
   "metadata": {},
   "outputs": [
    {
     "data": {
      "text/html": [
       "<div>\n",
       "<style scoped>\n",
       "    .dataframe tbody tr th:only-of-type {\n",
       "        vertical-align: middle;\n",
       "    }\n",
       "\n",
       "    .dataframe tbody tr th {\n",
       "        vertical-align: top;\n",
       "    }\n",
       "\n",
       "    .dataframe thead th {\n",
       "        text-align: right;\n",
       "    }\n",
       "</style>\n",
       "<table border=\"1\" class=\"dataframe\">\n",
       "  <thead>\n",
       "    <tr style=\"text-align: right;\">\n",
       "      <th></th>\n",
       "      <th>name</th>\n",
       "      <th>price</th>\n",
       "      <th>market_cap</th>\n",
       "      <th>volumn (24h)</th>\n",
       "      <th>circulating_supply</th>\n",
       "    </tr>\n",
       "    <tr>\n",
       "      <th>rank</th>\n",
       "      <th></th>\n",
       "      <th></th>\n",
       "      <th></th>\n",
       "      <th></th>\n",
       "      <th></th>\n",
       "    </tr>\n",
       "  </thead>\n",
       "  <tbody>\n",
       "    <tr>\n",
       "      <th>1</th>\n",
       "      <td>Bitcoin\\nBTC</td>\n",
       "      <td>$27,264.27</td>\n",
       "      <td>$527,851,684,194</td>\n",
       "      <td>$18,283,337,877\\n670,700 BTC</td>\n",
       "      <td>19,353,137 BTC</td>\n",
       "    </tr>\n",
       "    <tr>\n",
       "      <th>2</th>\n",
       "      <td>Ethereum\\nETH</td>\n",
       "      <td>$1,852.80</td>\n",
       "      <td>$223,159,002,459</td>\n",
       "      <td>$10,427,046,453\\n5,627,476 ETH</td>\n",
       "      <td>120,414,184 ETH</td>\n",
       "    </tr>\n",
       "    <tr>\n",
       "      <th>3</th>\n",
       "      <td>Tether\\nUSDT</td>\n",
       "      <td>$1.00</td>\n",
       "      <td>$81,443,835,274</td>\n",
       "      <td>$29,854,228,898\\n29,840,627,074 USDT</td>\n",
       "      <td>81,421,868,893 USDT</td>\n",
       "    </tr>\n",
       "    <tr>\n",
       "      <th>4</th>\n",
       "      <td>BNB\\nBNB</td>\n",
       "      <td>$323.42</td>\n",
       "      <td>$50,438,075,187</td>\n",
       "      <td>$833,761,378\\n2,577,950 BNB</td>\n",
       "      <td>155,864,509 BNB</td>\n",
       "    </tr>\n",
       "    <tr>\n",
       "      <th>5</th>\n",
       "      <td>USD Coin\\nUSDC</td>\n",
       "      <td>$1.00</td>\n",
       "      <td>$30,786,259,560</td>\n",
       "      <td>$5,068,852,303\\n5,067,624,031 USDC</td>\n",
       "      <td>30,779,107,463 USDC</td>\n",
       "    </tr>\n",
       "  </tbody>\n",
       "</table>\n",
       "</div>"
      ],
      "text/plain": [
       "                name       price        market_cap  \\\n",
       "rank                                                 \n",
       "1       Bitcoin\\nBTC  $27,264.27  $527,851,684,194   \n",
       "2      Ethereum\\nETH   $1,852.80  $223,159,002,459   \n",
       "3       Tether\\nUSDT       $1.00   $81,443,835,274   \n",
       "4           BNB\\nBNB     $323.42   $50,438,075,187   \n",
       "5     USD Coin\\nUSDC       $1.00   $30,786,259,560   \n",
       "\n",
       "                              volumn (24h)   circulating_supply  \n",
       "rank                                                             \n",
       "1             $18,283,337,877\\n670,700 BTC       19,353,137 BTC  \n",
       "2           $10,427,046,453\\n5,627,476 ETH      120,414,184 ETH  \n",
       "3     $29,854,228,898\\n29,840,627,074 USDT  81,421,868,893 USDT  \n",
       "4              $833,761,378\\n2,577,950 BNB      155,864,509 BNB  \n",
       "5       $5,068,852,303\\n5,067,624,031 USDC  30,779,107,463 USDC  "
      ]
     },
     "execution_count": 176,
     "metadata": {},
     "output_type": "execute_result"
    }
   ],
   "source": [
    "df.head()"
   ]
  },
  {
   "cell_type": "markdown",
   "id": "ba506bf1",
   "metadata": {},
   "source": [
    "**Handle page pagination using brute force method.**"
   ]
  },
  {
   "cell_type": "code",
   "execution_count": 147,
   "id": "4e3084e3",
   "metadata": {},
   "outputs": [
    {
     "name": "stdout",
     "output_type": "stream",
     "text": [
      "Crawl Page 1\n",
      "Crawl Page 2\n"
     ]
    }
   ],
   "source": [
    "page = 1\n",
    "rank, name, price, market_cap, volumn, circulating_supply = [], [], [], [], [], []\n",
    "while(page):\n",
    "    print(\"Crawl Page \" + str(page))\n",
    "    url = 'https://coinmarketcap.com/?page={}'.format(page)\n",
    "    driver.get(url)\n",
    "    screen_height = driver.execute_script(\"return window.screen.height;\")   # get the screen height of the web\n",
    "    i = 1\n",
    "\n",
    "    while True:\n",
    "        # scroll one screen height each time\n",
    "        driver.execute_script(\"window.scrollTo(0, {screen_height}*{i});\".format(screen_height=screen_height, i=i))  \n",
    "        i += 1\n",
    "        time.sleep(5)\n",
    "        # update scroll height each time after scrolled, as the scroll height can change after we scrolled the page\n",
    "        scroll_height = driver.execute_script(\"return document.body.scrollHeight;\")  \n",
    "        # Break the loop when the height we need to scroll to is larger than the total scroll height\n",
    "        if (screen_height) * i > scroll_height:\n",
    "            break \n",
    "            \n",
    "    rank1 =  driver.find_elements(By.XPATH, '//table[@class=\"sc-beb003d5-3 ieTeVa cmc-table  \"]/tbody/tr/td[2]')\n",
    "    rank =  [s.text for s in rank1] + rank\n",
    "    name1 =  driver.find_elements(By.XPATH, '//table[@class=\"sc-beb003d5-3 ieTeVa cmc-table  \"]/tbody/tr/td[3]')\n",
    "    name =  [s.text for s in name1] + name\n",
    "    price1 =  driver.find_elements(By.XPATH, '//table[@class=\"sc-beb003d5-3 ieTeVa cmc-table  \"]/tbody/tr/td[4]')\n",
    "    price = [s.text for s in price1] + price\n",
    "    market_cap1 = driver.find_elements(By.XPATH, '//table[@class=\"sc-beb003d5-3 ieTeVa cmc-table  \"]/tbody/tr/td[8]')\n",
    "    market_cap =  [s.text for s in market_cap1] + market_cap \n",
    "    volumn1 =  driver.find_elements(By.XPATH, '//table[@class=\"sc-beb003d5-3 ieTeVa cmc-table  \"]/tbody/tr/td[9]')\n",
    "    volumn =  [s.text for s in volumn1] + volumn\n",
    "    circulating_supply1 =  driver.find_elements(By.XPATH, '//table[@class=\"sc-beb003d5-3 ieTeVa cmc-table  \"]/tbody/tr/td[10]')\n",
    "    circulating_supply =  [s.text for s in circulating_supply1] + circulating_supply\n",
    "    page += 1\n",
    "    #scrape only 2 page\n",
    "    if page == 3:\n",
    "        break\n",
    "coinmarketcap = pd.DataFrame(list(zip(rank, name, price, market_cap, volumn, circulating_supply)),\n",
    "                        columns=['rank', 'name', 'price', 'market_cap', 'volumn (24h)', 'circulating_supply']) \n",
    "\n",
    "    \n",
    "    \n",
    "    "
   ]
  },
  {
   "cell_type": "code",
   "execution_count": 178,
   "id": "e5480839",
   "metadata": {},
   "outputs": [],
   "source": [
    "coinmarketcap['rank']= coinmarketcap['rank'].astype(int)"
   ]
  },
  {
   "cell_type": "code",
   "execution_count": 179,
   "id": "e4e33ee0",
   "metadata": {},
   "outputs": [],
   "source": [
    "coinmarketcap = coinmarketcap.sort_values(by='rank', ascending = True)"
   ]
  },
  {
   "cell_type": "code",
   "execution_count": 180,
   "id": "61a37ba4",
   "metadata": {},
   "outputs": [
    {
     "data": {
      "text/html": [
       "<div>\n",
       "<style scoped>\n",
       "    .dataframe tbody tr th:only-of-type {\n",
       "        vertical-align: middle;\n",
       "    }\n",
       "\n",
       "    .dataframe tbody tr th {\n",
       "        vertical-align: top;\n",
       "    }\n",
       "\n",
       "    .dataframe thead th {\n",
       "        text-align: right;\n",
       "    }\n",
       "</style>\n",
       "<table border=\"1\" class=\"dataframe\">\n",
       "  <thead>\n",
       "    <tr style=\"text-align: right;\">\n",
       "      <th></th>\n",
       "      <th>name</th>\n",
       "      <th>price</th>\n",
       "      <th>market_cap</th>\n",
       "      <th>volumn (24h)</th>\n",
       "      <th>circulating_supply</th>\n",
       "    </tr>\n",
       "    <tr>\n",
       "      <th>rank</th>\n",
       "      <th></th>\n",
       "      <th></th>\n",
       "      <th></th>\n",
       "      <th></th>\n",
       "      <th></th>\n",
       "    </tr>\n",
       "  </thead>\n",
       "  <tbody>\n",
       "    <tr>\n",
       "      <th>1</th>\n",
       "      <td>Bitcoin\\nBTC</td>\n",
       "      <td>$27,240.88</td>\n",
       "      <td>$527,262,018,086</td>\n",
       "      <td>$18,292,335,492\\n671,136 BTC</td>\n",
       "      <td>19,353,137 BTC</td>\n",
       "    </tr>\n",
       "    <tr>\n",
       "      <th>2</th>\n",
       "      <td>Ethereum\\nETH</td>\n",
       "      <td>$1,851.52</td>\n",
       "      <td>$222,966,693,444</td>\n",
       "      <td>$10,449,060,510\\n5,641,282 ETH</td>\n",
       "      <td>120,414,184 ETH</td>\n",
       "    </tr>\n",
       "    <tr>\n",
       "      <th>3</th>\n",
       "      <td>Tether\\nUSDT</td>\n",
       "      <td>$1.00</td>\n",
       "      <td>$81,472,729,418</td>\n",
       "      <td>$29,945,477,047\\n29,936,950,199 USDT</td>\n",
       "      <td>81,421,868,893 USDT</td>\n",
       "    </tr>\n",
       "    <tr>\n",
       "      <th>4</th>\n",
       "      <td>BNB\\nBNB</td>\n",
       "      <td>$323.29</td>\n",
       "      <td>$50,384,724,518</td>\n",
       "      <td>$839,671,715\\n2,597,290 BNB</td>\n",
       "      <td>155,864,509 BNB</td>\n",
       "    </tr>\n",
       "    <tr>\n",
       "      <th>5</th>\n",
       "      <td>USD Coin\\nUSDC</td>\n",
       "      <td>$1.00</td>\n",
       "      <td>$30,793,221,621</td>\n",
       "      <td>$5,088,021,347\\n5,087,776,163 USDC</td>\n",
       "      <td>30,779,107,463 USDC</td>\n",
       "    </tr>\n",
       "  </tbody>\n",
       "</table>\n",
       "</div>"
      ],
      "text/plain": [
       "                name       price        market_cap  \\\n",
       "rank                                                 \n",
       "1       Bitcoin\\nBTC  $27,240.88  $527,262,018,086   \n",
       "2      Ethereum\\nETH   $1,851.52  $222,966,693,444   \n",
       "3       Tether\\nUSDT       $1.00   $81,472,729,418   \n",
       "4           BNB\\nBNB     $323.29   $50,384,724,518   \n",
       "5     USD Coin\\nUSDC       $1.00   $30,793,221,621   \n",
       "\n",
       "                              volumn (24h)   circulating_supply  \n",
       "rank                                                             \n",
       "1             $18,292,335,492\\n671,136 BTC       19,353,137 BTC  \n",
       "2           $10,449,060,510\\n5,641,282 ETH      120,414,184 ETH  \n",
       "3     $29,945,477,047\\n29,936,950,199 USDT  81,421,868,893 USDT  \n",
       "4              $839,671,715\\n2,597,290 BNB      155,864,509 BNB  \n",
       "5       $5,088,021,347\\n5,087,776,163 USDC  30,779,107,463 USDC  "
      ]
     },
     "execution_count": 180,
     "metadata": {},
     "output_type": "execute_result"
    }
   ],
   "source": [
    "coinmarketcap.set_index('rank', inplace = True)\n",
    "coinmarketcap.head()"
   ]
  }
 ],
 "metadata": {
  "kernelspec": {
   "display_name": "Python 3 (ipykernel)",
   "language": "python",
   "name": "python3"
  },
  "language_info": {
   "codemirror_mode": {
    "name": "ipython",
    "version": 3
   },
   "file_extension": ".py",
   "mimetype": "text/x-python",
   "name": "python",
   "nbconvert_exporter": "python",
   "pygments_lexer": "ipython3",
   "version": "3.10.9"
  }
 },
 "nbformat": 4,
 "nbformat_minor": 5
}
