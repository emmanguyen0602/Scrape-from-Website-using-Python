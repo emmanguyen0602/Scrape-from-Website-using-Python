{
 "cells": [
  {
   "cell_type": "code",
   "execution_count": 1,
   "id": "0bc4f257",
   "metadata": {},
   "outputs": [],
   "source": [
    "import numpy as np\n",
    "from selenium import webdriver\n",
    "from selenium.webdriver.chrome.service import Service\n",
    "\n",
    "from time import sleep\n",
    "import random\n",
    "from selenium.common.exceptions import NoSuchElementException, ElementNotInteractableException\n",
    "from selenium.webdriver.common.by import By\n",
    "import pandas as pd"
   ]
  },
  {
   "cell_type": "code",
   "execution_count": 2,
   "id": "05669496",
   "metadata": {},
   "outputs": [],
   "source": [
    "from selenium.common.exceptions import ElementClickInterceptedException"
   ]
  },
  {
   "cell_type": "code",
   "execution_count": 3,
   "id": "ec3a6dd1",
   "metadata": {},
   "outputs": [],
   "source": [
    "# Declare browser\n",
    "s = Service('C://Users//hantt3//Downloads//chromedriver_win32')\n",
    "driver = webdriver.Chrome(service=s)\n",
    "url = 'https://www.google.com/maps/place/Hong+Ngoc+General+Hospital/@21.0424872,105.8416019,17z/data=!4m8!3m7!1s0x3135abba7ba53e11:0x587dbd43c0113ca9!8m2!3d21.0424822!4d105.8441768!9m1!1b1!16s%2Fg%2F1yl48pt04'\n",
    "driver.get(url)\n",
    "sleep(3)\n",
    "\n"
   ]
  },
  {
   "cell_type": "code",
   "execution_count": 4,
   "id": "025f2967",
   "metadata": {},
   "outputs": [],
   "source": [
    "#scroll the full page of google review\n",
    "screen_height = driver.execute_script(\"return window.screen.height;\")   # get the screen height of the web\n",
    "i = 1\n",
    "\n",
    "while True:\n",
    "    # scroll one screen height each time\n",
    "    driver.execute_script(\"window.scrollTo(0, {screen_height}*{i});\".format(screen_height=screen_height, i=i))  \n",
    "    i += 1\n",
    "    sleep(5)\n",
    "    # update scroll height each time after scrolled, as the scroll height can change after we scrolled the page\n",
    "    scroll_height = driver.execute_script(\"return document.body.scrollHeight;\")  \n",
    "    # Break the loop when the height we need to scroll to is larger than the total scroll height\n",
    "    if (screen_height) * i > scroll_height:\n",
    "        break \n"
   ]
  },
  {
   "cell_type": "code",
   "execution_count": 5,
   "id": "7f48cad7",
   "metadata": {},
   "outputs": [
    {
     "name": "stdout",
     "output_type": "stream",
     "text": [
      "ElementClickInterceptedException\n",
      "ElementClickInterceptedException\n",
      "ElementClickInterceptedException\n",
      "ElementClickInterceptedException\n",
      "ElementClickInterceptedException\n",
      "ElementClickInterceptedException\n",
      "ElementClickInterceptedException\n",
      "ElementClickInterceptedException\n",
      "ElementClickInterceptedException\n",
      "ElementClickInterceptedException\n",
      "ElementClickInterceptedException\n",
      "ElementClickInterceptedException\n",
      "ElementClickInterceptedException\n",
      "ElementClickInterceptedException\n",
      "ElementClickInterceptedException\n",
      "ElementClickInterceptedException\n",
      "ElementClickInterceptedException\n",
      "ElementClickInterceptedException\n",
      "ElementClickInterceptedException\n",
      "ElementClickInterceptedException\n",
      "ElementClickInterceptedException\n",
      "ElementClickInterceptedException\n",
      "ElementClickInterceptedException\n",
      "ElementClickInterceptedException\n",
      "ElementClickInterceptedException\n",
      "ElementClickInterceptedException\n",
      "ElementClickInterceptedException\n",
      "ElementClickInterceptedException\n",
      "ElementClickInterceptedException\n",
      "ElementClickInterceptedException\n",
      "ElementClickInterceptedException\n",
      "ElementClickInterceptedException\n",
      "ElementClickInterceptedException\n",
      "ElementClickInterceptedException\n",
      "ElementClickInterceptedException\n",
      "ElementClickInterceptedException\n",
      "ElementClickInterceptedException\n",
      "ElementClickInterceptedException\n",
      "ElementClickInterceptedException\n",
      "ElementClickInterceptedException\n",
      "ElementClickInterceptedException\n",
      "ElementClickInterceptedException\n",
      "ElementClickInterceptedException\n",
      "ElementClickInterceptedException\n",
      "ElementClickInterceptedException\n",
      "ElementClickInterceptedException\n",
      "ElementClickInterceptedException\n",
      "ElementClickInterceptedException\n",
      "ElementClickInterceptedException\n",
      "ElementClickInterceptedException\n",
      "ElementClickInterceptedException\n",
      "ElementClickInterceptedException\n",
      "ElementClickInterceptedException\n",
      "ElementClickInterceptedException\n",
      "ElementClickInterceptedException\n",
      "ElementClickInterceptedException\n",
      "ElementClickInterceptedException\n",
      "ElementClickInterceptedException\n",
      "ElementClickInterceptedException\n",
      "ElementClickInterceptedException\n",
      "ElementClickInterceptedException\n",
      "ElementClickInterceptedException\n",
      "ElementClickInterceptedException\n",
      "ElementClickInterceptedException\n",
      "ElementClickInterceptedException\n",
      "ElementClickInterceptedException\n",
      "ElementClickInterceptedException\n",
      "ElementClickInterceptedException\n",
      "ElementClickInterceptedException\n",
      "ElementClickInterceptedException\n",
      "ElementClickInterceptedException\n",
      "ElementClickInterceptedException\n",
      "ElementClickInterceptedException\n",
      "ElementClickInterceptedException\n",
      "ElementClickInterceptedException\n",
      "ElementClickInterceptedException\n",
      "ElementClickInterceptedException\n",
      "ElementClickInterceptedException\n",
      "ElementClickInterceptedException\n",
      "ElementClickInterceptedException\n",
      "ElementClickInterceptedException\n"
     ]
    }
   ],
   "source": [
    "'''create a dataframe including review name and review content because some review doesn't include review content\n",
    "    therefore if we create a full dataframe with name, rating, time and review, the dataframe only return review with full \n",
    "    these 4 values. For example, Phuong Dong general hosital have more than 500 reviews but the below code only returns\n",
    "    more than 400 values.\n",
    "''' \n",
    "review_name, review_content = [], [] #create 2 emply lists of review name and review content\n",
    "for review in driver.find_elements(By.CSS_SELECTOR , \".jJc9Ad \"):  #loop for all reviews \n",
    "    try:\n",
    "        button = review.find_elements(By.TAG_NAME, 'button') #find the button to click on more to get the full review content\n",
    "        for m in button:\n",
    "            if m.text == \"More\":\n",
    "                m.click()\n",
    "    except ElementClickInterceptedException:\n",
    "        print(\"ElementClickInterceptedException\")\n",
    "        continue\n",
    "\n",
    "    name = review.find_elements(By.CSS_SELECTOR ,\".d4r55 \")  #find the name of reviewer\n",
    "    text = review.find_elements(By.CSS_SELECTOR , \".MyEned .wiI7pd\") #find the content of review\n",
    "    \n",
    "    for j,p in zip(name,text): #loop through the name and text above and use text method to extract only text \n",
    "        review_name.append(j.text)\n",
    "        review_content.append(p.text)"
   ]
  },
  {
   "cell_type": "code",
   "execution_count": 6,
   "id": "7816d541",
   "metadata": {},
   "outputs": [],
   "source": [
    "#create a datafram df0 with name and review\n",
    "df0 = pd.DataFrame(\n",
    "    {'name': review_name,\n",
    "     'review': review_content})"
   ]
  },
  {
   "cell_type": "code",
   "execution_count": 7,
   "id": "e04fbbd8",
   "metadata": {},
   "outputs": [
    {
     "data": {
      "text/plain": [
       "(351, 2)"
      ]
     },
     "execution_count": 7,
     "metadata": {},
     "output_type": "execute_result"
    }
   ],
   "source": [
    "df0.shape #check the shape of the dataframe"
   ]
  },
  {
   "cell_type": "code",
   "execution_count": 8,
   "id": "bdd90dcc",
   "metadata": {},
   "outputs": [
    {
     "data": {
      "text/html": [
       "<div>\n",
       "<style scoped>\n",
       "    .dataframe tbody tr th:only-of-type {\n",
       "        vertical-align: middle;\n",
       "    }\n",
       "\n",
       "    .dataframe tbody tr th {\n",
       "        vertical-align: top;\n",
       "    }\n",
       "\n",
       "    .dataframe thead th {\n",
       "        text-align: right;\n",
       "    }\n",
       "</style>\n",
       "<table border=\"1\" class=\"dataframe\">\n",
       "  <thead>\n",
       "    <tr style=\"text-align: right;\">\n",
       "      <th></th>\n",
       "      <th>name</th>\n",
       "      <th>review</th>\n",
       "    </tr>\n",
       "  </thead>\n",
       "  <tbody>\n",
       "    <tr>\n",
       "      <th>0</th>\n",
       "      <td>LESYA NEBLOGGER</td>\n",
       "      <td>A doctor's visit to this clinic is 500.000, bu...</td>\n",
       "    </tr>\n",
       "    <tr>\n",
       "      <th>1</th>\n",
       "      <td>Jorja</td>\n",
       "      <td>As an English-speaking tourist, I had the best...</td>\n",
       "    </tr>\n",
       "    <tr>\n",
       "      <th>2</th>\n",
       "      <td>Digital Nomad</td>\n",
       "      <td>Excellent service for foreigners! Came at 10:0...</td>\n",
       "    </tr>\n",
       "    <tr>\n",
       "      <th>3</th>\n",
       "      <td>C Cutler</td>\n",
       "      <td>English speaker maintained continuous contact ...</td>\n",
       "    </tr>\n",
       "    <tr>\n",
       "      <th>4</th>\n",
       "      <td>Hendrik Boelck</td>\n",
       "      <td>I was there because had some a cough which did...</td>\n",
       "    </tr>\n",
       "  </tbody>\n",
       "</table>\n",
       "</div>"
      ],
      "text/plain": [
       "              name                                             review\n",
       "0  LESYA NEBLOGGER  A doctor's visit to this clinic is 500.000, bu...\n",
       "1            Jorja  As an English-speaking tourist, I had the best...\n",
       "2    Digital Nomad  Excellent service for foreigners! Came at 10:0...\n",
       "3         C Cutler  English speaker maintained continuous contact ...\n",
       "4   Hendrik Boelck  I was there because had some a cough which did..."
      ]
     },
     "execution_count": 8,
     "metadata": {},
     "output_type": "execute_result"
    }
   ],
   "source": [
    "df0.head() #see the first 5 rows "
   ]
  },
  {
   "cell_type": "code",
   "execution_count": 9,
   "id": "6347d617",
   "metadata": {},
   "outputs": [],
   "source": [
    "'''for the code, I dont't need to click on button more and only need to extract name, rating and duration, and each review \n",
    "    all include these 3 info, therefore, I will use list comprehension to parse them to list and convert them to dataframe. \n",
    "'''\n",
    "name = driver.find_elements(By.CSS_SELECTOR ,\".d4r55 \")\n",
    "review_name = [elem.text for elem in name]\n",
    "rate = driver.find_elements(By.CSS_SELECTOR ,\".DU9Pgb .kvMYJc\")\n",
    "rating = [elem.get_attribute(\"aria-label\") for elem in rate]\n",
    "duration = driver.find_elements(By.CSS_SELECTOR ,\".DU9Pgb .rsqaWe\")\n",
    "time = [elem.text for elem in duration]\n",
    "\n",
    "df1 = pd.DataFrame(list(zip(review_name, rating, time)), \n",
    "                   columns = ['name_comment', 'rating','time'])"
   ]
  },
  {
   "cell_type": "code",
   "execution_count": 10,
   "id": "552fe06b",
   "metadata": {},
   "outputs": [
    {
     "data": {
      "text/plain": [
       "(589, 3)"
      ]
     },
     "execution_count": 10,
     "metadata": {},
     "output_type": "execute_result"
    }
   ],
   "source": [
    "df1.shape"
   ]
  },
  {
   "cell_type": "code",
   "execution_count": 11,
   "id": "a94af52e",
   "metadata": {},
   "outputs": [
    {
     "data": {
      "text/html": [
       "<div>\n",
       "<style scoped>\n",
       "    .dataframe tbody tr th:only-of-type {\n",
       "        vertical-align: middle;\n",
       "    }\n",
       "\n",
       "    .dataframe tbody tr th {\n",
       "        vertical-align: top;\n",
       "    }\n",
       "\n",
       "    .dataframe thead th {\n",
       "        text-align: right;\n",
       "    }\n",
       "</style>\n",
       "<table border=\"1\" class=\"dataframe\">\n",
       "  <thead>\n",
       "    <tr style=\"text-align: right;\">\n",
       "      <th></th>\n",
       "      <th>name_comment</th>\n",
       "      <th>rating</th>\n",
       "      <th>time</th>\n",
       "    </tr>\n",
       "  </thead>\n",
       "  <tbody>\n",
       "    <tr>\n",
       "      <th>0</th>\n",
       "      <td>LESYA NEBLOGGER</td>\n",
       "      <td>2 stars</td>\n",
       "      <td>5 months ago</td>\n",
       "    </tr>\n",
       "    <tr>\n",
       "      <th>1</th>\n",
       "      <td>Jorja</td>\n",
       "      <td>5 stars</td>\n",
       "      <td>2 months ago</td>\n",
       "    </tr>\n",
       "    <tr>\n",
       "      <th>2</th>\n",
       "      <td>Digital Nomad</td>\n",
       "      <td>5 stars</td>\n",
       "      <td>a month ago</td>\n",
       "    </tr>\n",
       "    <tr>\n",
       "      <th>3</th>\n",
       "      <td>C Cutler</td>\n",
       "      <td>5 stars</td>\n",
       "      <td>2 years ago</td>\n",
       "    </tr>\n",
       "    <tr>\n",
       "      <th>4</th>\n",
       "      <td>Hendrik Boelck</td>\n",
       "      <td>5 stars</td>\n",
       "      <td>a month ago</td>\n",
       "    </tr>\n",
       "  </tbody>\n",
       "</table>\n",
       "</div>"
      ],
      "text/plain": [
       "      name_comment   rating          time\n",
       "0  LESYA NEBLOGGER  2 stars  5 months ago\n",
       "1            Jorja  5 stars  2 months ago\n",
       "2    Digital Nomad  5 stars   a month ago\n",
       "3         C Cutler  5 stars   2 years ago\n",
       "4   Hendrik Boelck  5 stars   a month ago"
      ]
     },
     "execution_count": 11,
     "metadata": {},
     "output_type": "execute_result"
    }
   ],
   "source": [
    "df1.head()"
   ]
  },
  {
   "cell_type": "code",
   "execution_count": 12,
   "id": "961173e1",
   "metadata": {},
   "outputs": [
    {
     "data": {
      "text/plain": [
       "'Left merge on pandas: Keep every row in the left dataframe here df1. \\nWhere there are missing values of the “on” variable in the right dataframe df0, add empty / NaN values in the result.'"
      ]
     },
     "execution_count": 12,
     "metadata": {},
     "output_type": "execute_result"
    }
   ],
   "source": [
    "'''\n",
    "Left merge on pandas: Keep every row in the left dataframe here df1. \n",
    "Where there are missing values of the “on” variable in the right dataframe df0, add empty / NaN values in the result.\n",
    "''' \n",
    "df = df1.merge(df0, how = 'left', left_on = \"name_comment\", right_on = \"name\") #merge the df0 to df1 based on name column\n"
   ]
  },
  {
   "cell_type": "code",
   "execution_count": 13,
   "id": "17221f4c",
   "metadata": {},
   "outputs": [
    {
     "data": {
      "text/plain": [
       "(593, 5)"
      ]
     },
     "execution_count": 13,
     "metadata": {},
     "output_type": "execute_result"
    }
   ],
   "source": [
    "df.shape"
   ]
  },
  {
   "cell_type": "code",
   "execution_count": 14,
   "id": "fc4d45e2",
   "metadata": {},
   "outputs": [
    {
     "data": {
      "text/plain": [
       "0"
      ]
     },
     "execution_count": 14,
     "metadata": {},
     "output_type": "execute_result"
    }
   ],
   "source": [
    "df.duplicated().sum()"
   ]
  },
  {
   "cell_type": "code",
   "execution_count": 15,
   "id": "a2648211",
   "metadata": {},
   "outputs": [
    {
     "data": {
      "text/html": [
       "<div>\n",
       "<style scoped>\n",
       "    .dataframe tbody tr th:only-of-type {\n",
       "        vertical-align: middle;\n",
       "    }\n",
       "\n",
       "    .dataframe tbody tr th {\n",
       "        vertical-align: top;\n",
       "    }\n",
       "\n",
       "    .dataframe thead th {\n",
       "        text-align: right;\n",
       "    }\n",
       "</style>\n",
       "<table border=\"1\" class=\"dataframe\">\n",
       "  <thead>\n",
       "    <tr style=\"text-align: right;\">\n",
       "      <th></th>\n",
       "      <th>name_comment</th>\n",
       "      <th>rating</th>\n",
       "      <th>time</th>\n",
       "      <th>name</th>\n",
       "      <th>review</th>\n",
       "    </tr>\n",
       "  </thead>\n",
       "  <tbody>\n",
       "    <tr>\n",
       "      <th>588</th>\n",
       "      <td>Quynh Anh Hoang</td>\n",
       "      <td>5 stars</td>\n",
       "      <td>3 years ago</td>\n",
       "      <td>NaN</td>\n",
       "      <td>NaN</td>\n",
       "    </tr>\n",
       "    <tr>\n",
       "      <th>589</th>\n",
       "      <td>Đỗ Đức Bảo</td>\n",
       "      <td>5 stars</td>\n",
       "      <td>7 months ago</td>\n",
       "      <td>NaN</td>\n",
       "      <td>NaN</td>\n",
       "    </tr>\n",
       "    <tr>\n",
       "      <th>590</th>\n",
       "      <td>Huong Nguyenvan</td>\n",
       "      <td>1 star</td>\n",
       "      <td>2 years ago</td>\n",
       "      <td>NaN</td>\n",
       "      <td>NaN</td>\n",
       "    </tr>\n",
       "    <tr>\n",
       "      <th>591</th>\n",
       "      <td>Charlotttibbals Geiger</td>\n",
       "      <td>4 stars</td>\n",
       "      <td>4 months ago</td>\n",
       "      <td>NaN</td>\n",
       "      <td>NaN</td>\n",
       "    </tr>\n",
       "    <tr>\n",
       "      <th>592</th>\n",
       "      <td>Diệu Nguyễn Minh</td>\n",
       "      <td>5 stars</td>\n",
       "      <td>2 months ago</td>\n",
       "      <td>NaN</td>\n",
       "      <td>NaN</td>\n",
       "    </tr>\n",
       "  </tbody>\n",
       "</table>\n",
       "</div>"
      ],
      "text/plain": [
       "               name_comment   rating          time name review\n",
       "588         Quynh Anh Hoang  5 stars   3 years ago  NaN    NaN\n",
       "589              Đỗ Đức Bảo  5 stars  7 months ago  NaN    NaN\n",
       "590         Huong Nguyenvan   1 star   2 years ago  NaN    NaN\n",
       "591  Charlotttibbals Geiger  4 stars  4 months ago  NaN    NaN\n",
       "592        Diệu Nguyễn Minh  5 stars  2 months ago  NaN    NaN"
      ]
     },
     "execution_count": 15,
     "metadata": {},
     "output_type": "execute_result"
    }
   ],
   "source": [
    "df.tail()"
   ]
  },
  {
   "cell_type": "code",
   "execution_count": 16,
   "id": "2fb137db",
   "metadata": {},
   "outputs": [],
   "source": [
    "df.drop('name', axis = 1, inplace=True)"
   ]
  },
  {
   "cell_type": "code",
   "execution_count": 17,
   "id": "775d2de1",
   "metadata": {},
   "outputs": [
    {
     "data": {
      "text/plain": [
       "(593, 4)"
      ]
     },
     "execution_count": 17,
     "metadata": {},
     "output_type": "execute_result"
    }
   ],
   "source": [
    "df.shape"
   ]
  },
  {
   "cell_type": "code",
   "execution_count": 18,
   "id": "c828681b",
   "metadata": {},
   "outputs": [
    {
     "name": "stdout",
     "output_type": "stream",
     "text": [
      "Sucessful\n"
     ]
    }
   ],
   "source": [
    "df.to_csv('hongngoc_google_reviews_27_4.csv',index=False)\n",
    "print(\"Sucessful\")"
   ]
  },
  {
   "cell_type": "code",
   "execution_count": null,
   "id": "5133f67f",
   "metadata": {},
   "outputs": [],
   "source": []
  }
 ],
 "metadata": {
  "kernelspec": {
   "display_name": "Python 3 (ipykernel)",
   "language": "python",
   "name": "python3"
  },
  "language_info": {
   "codemirror_mode": {
    "name": "ipython",
    "version": 3
   },
   "file_extension": ".py",
   "mimetype": "text/x-python",
   "name": "python",
   "nbconvert_exporter": "python",
   "pygments_lexer": "ipython3",
   "version": "3.10.9"
  }
 },
 "nbformat": 4,
 "nbformat_minor": 5
}
