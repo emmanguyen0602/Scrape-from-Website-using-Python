{
 "cells": [
  {
   "cell_type": "code",
   "execution_count": 1,
   "id": "d27fb377",
   "metadata": {},
   "outputs": [],
   "source": [
    "# Import the libraries.\n",
    "import requests\n",
    "from bs4 import BeautifulSoup\n",
    "import pandas as pd\n",
    "import csv"
   ]
  },
  {
   "cell_type": "code",
   "execution_count": 19,
   "id": "d79504d1",
   "metadata": {},
   "outputs": [],
   "source": [
    "# Extract the HTML and create a BeautifulSoup object.\n",
    "url = ('https://www.tripadvisor.in/Hotels-g28932-a_sort.popularity-Hawaii-Hotels.html')\n",
    "\n",
    "user_agent = ({'User-Agent': 'Mozilla/5.0 (Windows NT 10.0; Win64; x64)\\\n",
    "               AppleWebKit/537.36 (KHTML, like Gecko) \\\n",
    "               Chrome/111.0.0.0 Safari/537.3',\n",
    "               'Accept-Language': 'en-US, en;q=0.5'})\n",
    "\n",
    "def get_page_contents(url):\n",
    "    page = requests.get(url, headers = user_agent)\n",
    "    return BeautifulSoup(page.text, 'html.parser')\n",
    "\n",
    "soup = get_page_contents(url)"
   ]
  },
  {
   "cell_type": "code",
   "execution_count": 20,
   "id": "009b1c12",
   "metadata": {},
   "outputs": [],
   "source": [
    "# Find and extract data elements.\n",
    "hotels = []\n",
    "for name in soup.findAll('div',{'class':'listing_title'}):\n",
    "    hotels.append(name.text.strip())\n",
    "ratings = []\n",
    "for rating in soup.findAll('a',{'class':'ui_bubble_rating'}):\n",
    "    ratings.append(rating['alt'])\n",
    "reviews = []\n",
    "for review in soup.findAll('a',{'class':'review_count'}):\n",
    "    reviews.append(review.text.strip())\n",
    "prices = []\n",
    "for p in soup.findAll('div',{'class':'price-wrap'}):\n",
    "    if p is \n",
    "    prices.append(p.text.replace('₫','').strip())"
   ]
  },
  {
   "cell_type": "code",
   "execution_count": 23,
   "id": "e489d4f9",
   "metadata": {},
   "outputs": [],
   "source": [
    "hotels = [i for n, i in enumerate(hotels) if i not in hotels[:n]]"
   ]
  },
  {
   "cell_type": "code",
   "execution_count": 21,
   "id": "93c78e36",
   "metadata": {},
   "outputs": [
    {
     "data": {
      "text/plain": [
       "60"
      ]
     },
     "execution_count": 21,
     "metadata": {},
     "output_type": "execute_result"
    }
   ],
   "source": [
    "len(hotels)"
   ]
  },
  {
   "cell_type": "code",
   "execution_count": 24,
   "id": "a918f00a",
   "metadata": {},
   "outputs": [
    {
     "data": {
      "text/plain": [
       "['1. Kalaekilohana',\n",
       " '2. Outrigger Waikiki Beachcomber Hotel',\n",
       " '3. Whalers Cove Oceanfront Resort',\n",
       " '4. Halekulani Hotel',\n",
       " '5. Kaimana Beach Hotel',\n",
       " '6. Aston Waikiki Beach Tower',\n",
       " '7. Trump International Hotel Waikiki',\n",
       " '8. Lotus Honolulu at Diamond Head',\n",
       " '9. Mauna Lani, Auberge Resorts Collection',\n",
       " '10. Prince Waikiki',\n",
       " '11. Napili Surf Beach Resort',\n",
       " '12. The Laylow, Autograph Collection',\n",
       " '13. Koloa Landing Resort at Poipu, Autograph Collection',\n",
       " '14. Hotel Wailea',\n",
       " '15. The Equus',\n",
       " '16. Hotel La Croix',\n",
       " '17. Halepuna Waikiki by Halekulani',\n",
       " '18. The Kahala Hotel & Resort',\n",
       " '19. Hilton Grand Vacations Club Hokulani Waikiki Honolulu',\n",
       " '20. Four Seasons Resort Maui at Wailea',\n",
       " '21. Montage Kapalua Bay',\n",
       " '22. Grand Hyatt Kauai Resort & Spa',\n",
       " '23. Outrigger Reef Waikiki Beach Resort',\n",
       " '24. Kauai Shores Hotel',\n",
       " '25. Four Seasons Resort Hualalai',\n",
       " '26. Vive Hotel Waikiki',\n",
       " '27. The Surfjack Hotel & Swim Club',\n",
       " '28. Embassy Suites by Hilton Waikiki Beach Walk',\n",
       " '29. Paniolo at the Equus',\n",
       " '30. Paia Inn']"
      ]
     },
     "execution_count": 24,
     "metadata": {},
     "output_type": "execute_result"
    }
   ],
   "source": [
    "hotels"
   ]
  },
  {
   "cell_type": "code",
   "execution_count": 26,
   "id": "1cfb5439",
   "metadata": {},
   "outputs": [
    {
     "data": {
      "text/plain": [
       "30"
      ]
     },
     "execution_count": 26,
     "metadata": {},
     "output_type": "execute_result"
    }
   ],
   "source": [
    "len(ratings)"
   ]
  },
  {
   "cell_type": "code",
   "execution_count": 27,
   "id": "a9a7cbad",
   "metadata": {},
   "outputs": [
    {
     "data": {
      "text/plain": [
       "30"
      ]
     },
     "execution_count": 27,
     "metadata": {},
     "output_type": "execute_result"
    }
   ],
   "source": [
    "len(reviews)"
   ]
  },
  {
   "cell_type": "code",
   "execution_count": 29,
   "id": "f3fa726d",
   "metadata": {},
   "outputs": [
    {
     "data": {
      "text/plain": [
       "27"
      ]
     },
     "execution_count": 29,
     "metadata": {},
     "output_type": "execute_result"
    }
   ],
   "source": [
    "len(prices)"
   ]
  },
  {
   "cell_type": "code",
   "execution_count": 30,
   "id": "13e4cf45",
   "metadata": {},
   "outputs": [
    {
     "data": {
      "text/html": [
       "<div>\n",
       "<style scoped>\n",
       "    .dataframe tbody tr th:only-of-type {\n",
       "        vertical-align: middle;\n",
       "    }\n",
       "\n",
       "    .dataframe tbody tr th {\n",
       "        vertical-align: top;\n",
       "    }\n",
       "\n",
       "    .dataframe thead th {\n",
       "        text-align: right;\n",
       "    }\n",
       "</style>\n",
       "<table border=\"1\" class=\"dataframe\">\n",
       "  <thead>\n",
       "    <tr style=\"text-align: right;\">\n",
       "      <th></th>\n",
       "      <th>Hotel Names</th>\n",
       "      <th>Ratings</th>\n",
       "      <th>Number of Reviews</th>\n",
       "    </tr>\n",
       "  </thead>\n",
       "  <tbody>\n",
       "    <tr>\n",
       "      <th>0</th>\n",
       "      <td>1. Kalaekilohana</td>\n",
       "      <td>5 of 5 bubbles</td>\n",
       "      <td>430 reviews</td>\n",
       "    </tr>\n",
       "    <tr>\n",
       "      <th>1</th>\n",
       "      <td>2. Outrigger Waikiki Beachcomber Hotel</td>\n",
       "      <td>4.5 of 5 bubbles</td>\n",
       "      <td>662 reviews</td>\n",
       "    </tr>\n",
       "    <tr>\n",
       "      <th>2</th>\n",
       "      <td>3. Whalers Cove Oceanfront Resort</td>\n",
       "      <td>5 of 5 bubbles</td>\n",
       "      <td>512 reviews</td>\n",
       "    </tr>\n",
       "    <tr>\n",
       "      <th>3</th>\n",
       "      <td>4. Halekulani Hotel</td>\n",
       "      <td>4.5 of 5 bubbles</td>\n",
       "      <td>3,307 reviews</td>\n",
       "    </tr>\n",
       "    <tr>\n",
       "      <th>4</th>\n",
       "      <td>5. Kaimana Beach Hotel</td>\n",
       "      <td>5 of 5 bubbles</td>\n",
       "      <td>558 reviews</td>\n",
       "    </tr>\n",
       "    <tr>\n",
       "      <th>5</th>\n",
       "      <td>6. Aston Waikiki Beach Tower</td>\n",
       "      <td>4.5 of 5 bubbles</td>\n",
       "      <td>1,458 reviews</td>\n",
       "    </tr>\n",
       "    <tr>\n",
       "      <th>6</th>\n",
       "      <td>7. Trump International Hotel Waikiki</td>\n",
       "      <td>4.5 of 5 bubbles</td>\n",
       "      <td>4,025 reviews</td>\n",
       "    </tr>\n",
       "    <tr>\n",
       "      <th>7</th>\n",
       "      <td>8. Lotus Honolulu at Diamond Head</td>\n",
       "      <td>4.5 of 5 bubbles</td>\n",
       "      <td>1,680 reviews</td>\n",
       "    </tr>\n",
       "    <tr>\n",
       "      <th>8</th>\n",
       "      <td>9. Mauna Lani, Auberge Resorts Collection</td>\n",
       "      <td>5 of 5 bubbles</td>\n",
       "      <td>583 reviews</td>\n",
       "    </tr>\n",
       "    <tr>\n",
       "      <th>9</th>\n",
       "      <td>10. Prince Waikiki</td>\n",
       "      <td>5 of 5 bubbles</td>\n",
       "      <td>2,903 reviews</td>\n",
       "    </tr>\n",
       "  </tbody>\n",
       "</table>\n",
       "</div>"
      ],
      "text/plain": [
       "                                 Hotel Names           Ratings  \\\n",
       "0                           1. Kalaekilohana    5 of 5 bubbles   \n",
       "1     2. Outrigger Waikiki Beachcomber Hotel  4.5 of 5 bubbles   \n",
       "2          3. Whalers Cove Oceanfront Resort    5 of 5 bubbles   \n",
       "3                        4. Halekulani Hotel  4.5 of 5 bubbles   \n",
       "4                     5. Kaimana Beach Hotel    5 of 5 bubbles   \n",
       "5               6. Aston Waikiki Beach Tower  4.5 of 5 bubbles   \n",
       "6       7. Trump International Hotel Waikiki  4.5 of 5 bubbles   \n",
       "7          8. Lotus Honolulu at Diamond Head  4.5 of 5 bubbles   \n",
       "8  9. Mauna Lani, Auberge Resorts Collection    5 of 5 bubbles   \n",
       "9                         10. Prince Waikiki    5 of 5 bubbles   \n",
       "\n",
       "  Number of Reviews  \n",
       "0       430 reviews  \n",
       "1       662 reviews  \n",
       "2       512 reviews  \n",
       "3     3,307 reviews  \n",
       "4       558 reviews  \n",
       "5     1,458 reviews  \n",
       "6     4,025 reviews  \n",
       "7     1,680 reviews  \n",
       "8       583 reviews  \n",
       "9     2,903 reviews  "
      ]
     },
     "execution_count": 30,
     "metadata": {},
     "output_type": "execute_result"
    }
   ],
   "source": [
    "# Create the dataframe.\n",
    "hawaii = pd.DataFrame({'Hotel Names':hotels,'Ratings':ratings,'Number of Reviews':reviews})\n",
    "hawaii.head(10)"
   ]
  }
 ],
 "metadata": {
  "kernelspec": {
   "display_name": "Python 3 (ipykernel)",
   "language": "python",
   "name": "python3"
  },
  "language_info": {
   "codemirror_mode": {
    "name": "ipython",
    "version": 3
   },
   "file_extension": ".py",
   "mimetype": "text/x-python",
   "name": "python",
   "nbconvert_exporter": "python",
   "pygments_lexer": "ipython3",
   "version": "3.10.9"
  }
 },
 "nbformat": 4,
 "nbformat_minor": 5
}
