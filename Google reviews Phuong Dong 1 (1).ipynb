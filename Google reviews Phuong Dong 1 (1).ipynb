{
 "cells": [
  {
   "cell_type": "code",
   "execution_count": 68,
   "id": "0bc4f257",
   "metadata": {},
   "outputs": [],
   "source": [
    "import numpy as np\n",
    "from selenium import webdriver\n",
    "from selenium.webdriver.chrome.service import Service\n",
    "\n",
    "from time import sleep\n",
    "import random\n",
    "from selenium.common.exceptions import NoSuchElementException, ElementNotInteractableException\n",
    "from selenium.webdriver.common.by import By\n",
    "import pandas as pd"
   ]
  },
  {
   "cell_type": "code",
   "execution_count": 142,
   "id": "05669496",
   "metadata": {},
   "outputs": [],
   "source": [
    "from selenium.common.exceptions import ElementClickInterceptedException"
   ]
  },
  {
   "cell_type": "code",
   "execution_count": 69,
   "id": "ec3a6dd1",
   "metadata": {},
   "outputs": [],
   "source": [
    "# Declare browser\n",
    "s = Service('C://Users//hantt3//Downloads//chromedriver_win32')\n",
    "driver = webdriver.Chrome(service=s)\n",
    "url = 'https://www.google.com/maps/place/Phuong+Dong+General+Hospital/@21.0702928,105.7727143,17z/data=!4m8!3m7!1s0x31345528d3ec753d:0xdf00132a25f8776!8m2!3d21.0702878!4d105.7752892!9m1!1b1!16s%2Fg%2F11f3wd0mv2'\n",
    "driver.get(url)\n",
    "sleep(3)\n",
    "\n"
   ]
  },
  {
   "cell_type": "code",
   "execution_count": 70,
   "id": "025f2967",
   "metadata": {},
   "outputs": [],
   "source": [
    "\n",
    "screen_height = driver.execute_script(\"return window.screen.height;\")   # get the screen height of the web\n",
    "i = 1\n",
    "\n",
    "while True:\n",
    "    # scroll one screen height each time\n",
    "    driver.execute_script(\"window.scrollTo(0, {screen_height}*{i});\".format(screen_height=screen_height, i=i))  \n",
    "    i += 1\n",
    "    sleep(5)\n",
    "    # update scroll height each time after scrolled, as the scroll height can change after we scrolled the page\n",
    "    scroll_height = driver.execute_script(\"return document.body.scrollHeight;\")  \n",
    "    # Break the loop when the height we need to scroll to is larger than the total scroll height\n",
    "    if (screen_height) * i > scroll_height:\n",
    "        break \n"
   ]
  },
  {
   "cell_type": "code",
   "execution_count": 143,
   "id": "7f48cad7",
   "metadata": {},
   "outputs": [
    {
     "name": "stdout",
     "output_type": "stream",
     "text": [
      "ElementClickInterceptedException\n"
     ]
    },
    {
     "ename": "KeyboardInterrupt",
     "evalue": "",
     "output_type": "error",
     "traceback": [
      "\u001b[1;31m---------------------------------------------------------------------------\u001b[0m",
      "\u001b[1;31mKeyboardInterrupt\u001b[0m                         Traceback (most recent call last)",
      "Cell \u001b[1;32mIn[143], line 11\u001b[0m\n\u001b[0;32m      9\u001b[0m     \u001b[38;5;28mprint\u001b[39m(\u001b[38;5;124m\"\u001b[39m\u001b[38;5;124mElementClickInterceptedException\u001b[39m\u001b[38;5;124m\"\u001b[39m)\n\u001b[0;32m     10\u001b[0m     \u001b[38;5;28;01mcontinue\u001b[39;00m\n\u001b[1;32m---> 11\u001b[0m \u001b[43msleep\u001b[49m\u001b[43m(\u001b[49m\u001b[38;5;241;43m5\u001b[39;49m\u001b[43m)\u001b[49m\n\u001b[0;32m     13\u001b[0m name \u001b[38;5;241m=\u001b[39m review\u001b[38;5;241m.\u001b[39mfind_elements(By\u001b[38;5;241m.\u001b[39mCSS_SELECTOR ,\u001b[38;5;124m\"\u001b[39m\u001b[38;5;124m.d4r55 \u001b[39m\u001b[38;5;124m\"\u001b[39m)\n\u001b[0;32m     14\u001b[0m rate \u001b[38;5;241m=\u001b[39m review\u001b[38;5;241m.\u001b[39mfind_elements(By\u001b[38;5;241m.\u001b[39mCSS_SELECTOR ,\u001b[38;5;124m\"\u001b[39m\u001b[38;5;124m.DU9Pgb .kvMYJc\u001b[39m\u001b[38;5;124m\"\u001b[39m)\n",
      "\u001b[1;31mKeyboardInterrupt\u001b[0m: "
     ]
    }
   ],
   "source": [
    "review_name, review_content = [], []\n",
    "for review in driver.find_elements(By.CSS_SELECTOR , \".jJc9Ad \"):\n",
    "    try:\n",
    "        button = review.find_elements(By.TAG_NAME, 'button')\n",
    "        for m in button:\n",
    "            if m.text == \"More\":\n",
    "                m.click()\n",
    "    except ElementClickInterceptedException:\n",
    "        print(\"ElementClickInterceptedException\")\n",
    "        continue\n",
    "\n",
    "    name = review.find_elements(By.CSS_SELECTOR ,\".d4r55 \")\n",
    "    text = review.find_elements(By.CSS_SELECTOR , \".MyEned .wiI7pd\")\n",
    "    \n",
    "    for j,p in zip(name,text):\n",
    "        review_name.append(j.text)\n",
    "        review_content.append(p.text)"
   ]
  },
  {
   "cell_type": "code",
   "execution_count": 72,
   "id": "bc7c9f62",
   "metadata": {},
   "outputs": [],
   "source": [
    "button =[]\n",
    "for review in driver.find_elements(By.CSS_SELECTOR , \".jJc9Ad \"):\n",
    "    b = review.find_elements(By.CSS_SELECTOR , \".w8nwRe kyuRq\")\n",
    "    button.append(b)\n"
   ]
  },
  {
   "cell_type": "code",
   "execution_count": 138,
   "id": "ab90abce",
   "metadata": {},
   "outputs": [
    {
     "name": "stdout",
     "output_type": "stream",
     "text": [
      "[]\n"
     ]
    }
   ],
   "source": [
    "b = review.find_elements(By.CSS_SELECTOR , \".MyEned .w8nwRe kyuRq\")\n",
    "print(b)"
   ]
  },
  {
   "cell_type": "code",
   "execution_count": 73,
   "id": "b82a64e0",
   "metadata": {},
   "outputs": [
    {
     "data": {
      "text/plain": [
       "513"
      ]
     },
     "execution_count": 73,
     "metadata": {},
     "output_type": "execute_result"
    }
   ],
   "source": [
    "len(button)"
   ]
  },
  {
   "cell_type": "code",
   "execution_count": 75,
   "id": "c9890078",
   "metadata": {},
   "outputs": [
    {
     "data": {
      "text/plain": [
       "513"
      ]
     },
     "execution_count": 75,
     "metadata": {},
     "output_type": "execute_result"
    }
   ],
   "source": [
    "text=[]\n",
    "for review in driver.find_elements(By.CSS_SELECTOR , \".jJc9Ad \"):\n",
    "    r = review.find_elements(By.CSS_SELECTOR , \".MyEned .wiI7pd\")\n",
    "    text.append(r)\n",
    "len(text)"
   ]
  },
  {
   "cell_type": "code",
   "execution_count": 108,
   "id": "c512e07c",
   "metadata": {},
   "outputs": [
    {
     "data": {
      "text/plain": [
       "513"
      ]
     },
     "execution_count": 108,
     "metadata": {},
     "output_type": "execute_result"
    }
   ],
   "source": [
    "reviews = driver.find_elements(By.CSS_SELECTOR , \".jJc9Ad \")\n",
    "len(reviews)\n"
   ]
  },
  {
   "cell_type": "code",
   "execution_count": 110,
   "id": "7fef6db2",
   "metadata": {},
   "outputs": [
    {
     "data": {
      "text/plain": [
       "513"
      ]
     },
     "execution_count": 110,
     "metadata": {},
     "output_type": "execute_result"
    }
   ],
   "source": [
    "rating=[]\n",
    "for rate in driver.find_elements(By.CSS_SELECTOR , \".jJc9Ad \"):\n",
    "    r = review.find_elements(By.CSS_SELECTOR , \".DU9Pgb .kvMYJc\")\n",
    "    rating.append(r)\n",
    "len(rating)"
   ]
  },
  {
   "cell_type": "code",
   "execution_count": 79,
   "id": "2146792f",
   "metadata": {},
   "outputs": [],
   "source": [
    "name = driver.find_elements(By.CSS_SELECTOR ,\".d4r55 \")\n",
    "review_name = [elem.text for elem in name]"
   ]
  },
  {
   "cell_type": "code",
   "execution_count": 80,
   "id": "95f7218e",
   "metadata": {},
   "outputs": [
    {
     "data": {
      "text/plain": [
       "513"
      ]
     },
     "execution_count": 80,
     "metadata": {},
     "output_type": "execute_result"
    }
   ],
   "source": [
    "len(review_name)"
   ]
  },
  {
   "cell_type": "code",
   "execution_count": 113,
   "id": "5a9878eb",
   "metadata": {},
   "outputs": [],
   "source": [
    "text = driver.find_elements(By.CSS_SELECTOR , \".MyEned .wiI7pd\")\n",
    "review_content = [elem.text for elem in text]\n"
   ]
  },
  {
   "cell_type": "code",
   "execution_count": 114,
   "id": "40494ef3",
   "metadata": {},
   "outputs": [
    {
     "data": {
      "text/plain": [
       "['I visited this hospital to do a pregnancy test for my wife. I was worried about the communication and price. But, they assigned a separate translator for us and the guy was so dedicated and he was with us till we leave that hospital. And …',\n",
       " 'If you are Vietnamese, this hospital isn’t a bad option. Foreigners, beware! This hospital has a totally different price list for non-Vietnamese patients. We were told 3 different prices while being consulted by different cashiers for the …',\n",
       " 'The hospital is quite big with new equipments.\\nHowever, they charge extra fee for the foreigners, while the service is not as good as other hospitals. …',\n",
       " \"The garden and the cleanliness is the only nice thing about this place. They asked for more money for my son's treatment because he has a foreign name (born in VN with a VN passport). They tried to make my wife and son separated (my son is …\",\n",
       " \"I'm a foreigner who got surgery on my shoulder here. The services and facilities were excellent and it was very well priced. Highly recommended to any foreigner. I will go back every time I have a problem (I live in Hanoi).\",\n",
       " 'Good',\n",
       " 'Price of covid test sometimes 150, sometimes 200, sometimes 300. Prices higher for foreigners, avoid at all costs',\n",
       " 'Ok',\n",
       " 'Good service',\n",
       " 'ok']"
      ]
     },
     "execution_count": 114,
     "metadata": {},
     "output_type": "execute_result"
    }
   ],
   "source": [
    "review_content[:10]"
   ]
  },
  {
   "cell_type": "code",
   "execution_count": 119,
   "id": "6347d617",
   "metadata": {},
   "outputs": [],
   "source": [
    "name = driver.find_elements(By.CSS_SELECTOR ,\".d4r55 \")\n",
    "review_name = [elem.text for elem in name]\n",
    "rate = driver.find_elements(By.CSS_SELECTOR ,\".DU9Pgb .kvMYJc\")\n",
    "rating = [elem.get_attribute(\"aria-label\") for elem in rate]\n",
    "duration = driver.find_elements(By.CSS_SELECTOR ,\".DU9Pgb .rsqaWe\")\n",
    "time = [elem.text for elem in duration]\n",
    "\n",
    "df1 = pd.DataFrame(list(zip(review_name, rating, time)), \n",
    "                   columns = ['name_comment', 'rating','time'])"
   ]
  },
  {
   "cell_type": "code",
   "execution_count": 120,
   "id": "552fe06b",
   "metadata": {},
   "outputs": [
    {
     "data": {
      "text/plain": [
       "(513, 3)"
      ]
     },
     "execution_count": 120,
     "metadata": {},
     "output_type": "execute_result"
    }
   ],
   "source": [
    "df1.shape"
   ]
  },
  {
   "cell_type": "code",
   "execution_count": 121,
   "id": "4970fdf6",
   "metadata": {},
   "outputs": [],
   "source": [
    "name = driver.find_elements(By.CSS_SELECTOR ,\".d4r55 \")\n",
    "review_name = [elem.text for elem in name]\n",
    "text = driver.find_elements(By.CSS_SELECTOR , \".MyEned .wiI7pd\")\n",
    "review_content = [elem.text for elem in text]\n",
    "\n",
    "df2 = pd.DataFrame(list(zip(review_name, review_content)), \n",
    "                   columns = ['name_comment', 'review'])"
   ]
  },
  {
   "cell_type": "code",
   "execution_count": 122,
   "id": "430dfe7b",
   "metadata": {},
   "outputs": [],
   "source": [
    "review_name, review_content = [], []\n",
    "for review in driver.find_elements(By.CSS_SELECTOR , \".jJc9Ad \"):\n",
    "    button = review.find_elements(By.CSS_SELECTOR, \".w8nwRe kyuRq\")\n",
    "    for m in button:\n",
    "        if m.text == \"More\":\n",
    "            m.click()\n",
    "\n",
    "    name = review.find_elements(By.CSS_SELECTOR ,\".d4r55 \")\n",
    "    text = review.find_elements(By.CSS_SELECTOR , \".MyEned .wiI7pd\")\n",
    "    \n",
    "    for j,p in zip(name, text):\n",
    "        review_name.append(j.text)\n",
    "        review_content.append(p.text)"
   ]
  },
  {
   "cell_type": "code",
   "execution_count": 123,
   "id": "da8ed46b",
   "metadata": {},
   "outputs": [],
   "source": [
    "df0 = pd.DataFrame(\n",
    "    {'name': review_name,\n",
    "     'review': review_content})"
   ]
  },
  {
   "cell_type": "code",
   "execution_count": 124,
   "id": "9fa6d902",
   "metadata": {},
   "outputs": [
    {
     "data": {
      "text/plain": [
       "(419, 2)"
      ]
     },
     "execution_count": 124,
     "metadata": {},
     "output_type": "execute_result"
    }
   ],
   "source": [
    "df0.shape"
   ]
  },
  {
   "cell_type": "code",
   "execution_count": 125,
   "id": "961173e1",
   "metadata": {},
   "outputs": [],
   "source": [
    "df = df1.merge(df0, how = 'left', left_on = \"name_comment\", right_on = \"name\")"
   ]
  },
  {
   "cell_type": "code",
   "execution_count": 126,
   "id": "17221f4c",
   "metadata": {},
   "outputs": [
    {
     "data": {
      "text/plain": [
       "(523, 5)"
      ]
     },
     "execution_count": 126,
     "metadata": {},
     "output_type": "execute_result"
    }
   ],
   "source": [
    "df.shape"
   ]
  },
  {
   "cell_type": "code",
   "execution_count": 127,
   "id": "fc4d45e2",
   "metadata": {},
   "outputs": [
    {
     "data": {
      "text/plain": [
       "0"
      ]
     },
     "execution_count": 127,
     "metadata": {},
     "output_type": "execute_result"
    }
   ],
   "source": [
    "df.duplicated().sum()"
   ]
  },
  {
   "cell_type": "code",
   "execution_count": 128,
   "id": "a2648211",
   "metadata": {},
   "outputs": [
    {
     "data": {
      "text/html": [
       "<div>\n",
       "<style scoped>\n",
       "    .dataframe tbody tr th:only-of-type {\n",
       "        vertical-align: middle;\n",
       "    }\n",
       "\n",
       "    .dataframe tbody tr th {\n",
       "        vertical-align: top;\n",
       "    }\n",
       "\n",
       "    .dataframe thead th {\n",
       "        text-align: right;\n",
       "    }\n",
       "</style>\n",
       "<table border=\"1\" class=\"dataframe\">\n",
       "  <thead>\n",
       "    <tr style=\"text-align: right;\">\n",
       "      <th></th>\n",
       "      <th>name_comment</th>\n",
       "      <th>rating</th>\n",
       "      <th>time</th>\n",
       "      <th>name</th>\n",
       "      <th>review</th>\n",
       "    </tr>\n",
       "  </thead>\n",
       "  <tbody>\n",
       "    <tr>\n",
       "      <th>518</th>\n",
       "      <td>Thế giới Máy chế biến gỗ</td>\n",
       "      <td>5 stars</td>\n",
       "      <td>4 weeks ago</td>\n",
       "      <td>Thế giới Máy chế biến gỗ</td>\n",
       "      <td>Dịch vụ tốt, chu đáo</td>\n",
       "    </tr>\n",
       "    <tr>\n",
       "      <th>519</th>\n",
       "      <td>Tom Garden</td>\n",
       "      <td>5 stars</td>\n",
       "      <td>3 years ago</td>\n",
       "      <td>NaN</td>\n",
       "      <td>NaN</td>\n",
       "    </tr>\n",
       "    <tr>\n",
       "      <th>520</th>\n",
       "      <td>THÁI VŨ</td>\n",
       "      <td>4 stars</td>\n",
       "      <td>2 years ago</td>\n",
       "      <td>NaN</td>\n",
       "      <td>NaN</td>\n",
       "    </tr>\n",
       "    <tr>\n",
       "      <th>521</th>\n",
       "      <td>Trang Le</td>\n",
       "      <td>5 stars</td>\n",
       "      <td>4 years ago</td>\n",
       "      <td>NaN</td>\n",
       "      <td>NaN</td>\n",
       "    </tr>\n",
       "    <tr>\n",
       "      <th>522</th>\n",
       "      <td>anh trịnh huyền</td>\n",
       "      <td>5 stars</td>\n",
       "      <td>a month ago</td>\n",
       "      <td>NaN</td>\n",
       "      <td>NaN</td>\n",
       "    </tr>\n",
       "  </tbody>\n",
       "</table>\n",
       "</div>"
      ],
      "text/plain": [
       "                 name_comment   rating         time                      name  \\\n",
       "518  Thế giới Máy chế biến gỗ  5 stars  4 weeks ago  Thế giới Máy chế biến gỗ   \n",
       "519                Tom Garden  5 stars  3 years ago                       NaN   \n",
       "520                   THÁI VŨ  4 stars  2 years ago                       NaN   \n",
       "521                  Trang Le  5 stars  4 years ago                       NaN   \n",
       "522           anh trịnh huyền  5 stars  a month ago                       NaN   \n",
       "\n",
       "                   review  \n",
       "518  Dịch vụ tốt, chu đáo  \n",
       "519                   NaN  \n",
       "520                   NaN  \n",
       "521                   NaN  \n",
       "522                   NaN  "
      ]
     },
     "execution_count": 128,
     "metadata": {},
     "output_type": "execute_result"
    }
   ],
   "source": [
    "df.tail()"
   ]
  },
  {
   "cell_type": "code",
   "execution_count": 132,
   "id": "2fb137db",
   "metadata": {},
   "outputs": [],
   "source": [
    "df.drop('name', axis = 1, inplace=True)"
   ]
  },
  {
   "cell_type": "code",
   "execution_count": 133,
   "id": "775d2de1",
   "metadata": {},
   "outputs": [
    {
     "data": {
      "text/plain": [
       "(523, 4)"
      ]
     },
     "execution_count": 133,
     "metadata": {},
     "output_type": "execute_result"
    }
   ],
   "source": [
    "df.shape"
   ]
  },
  {
   "cell_type": "code",
   "execution_count": 134,
   "id": "c828681b",
   "metadata": {},
   "outputs": [
    {
     "name": "stdout",
     "output_type": "stream",
     "text": [
      "Sucessful\n"
     ]
    }
   ],
   "source": [
    "df.to_csv('phuongdong_google_reviews.csv',index=False)\n",
    "print(\"Sucessful\")"
   ]
  }
 ],
 "metadata": {
  "kernelspec": {
   "display_name": "Python 3 (ipykernel)",
   "language": "python",
   "name": "python3"
  },
  "language_info": {
   "codemirror_mode": {
    "name": "ipython",
    "version": 3
   },
   "file_extension": ".py",
   "mimetype": "text/x-python",
   "name": "python",
   "nbconvert_exporter": "python",
   "pygments_lexer": "ipython3",
   "version": "3.10.9"
  }
 },
 "nbformat": 4,
 "nbformat_minor": 5
}
