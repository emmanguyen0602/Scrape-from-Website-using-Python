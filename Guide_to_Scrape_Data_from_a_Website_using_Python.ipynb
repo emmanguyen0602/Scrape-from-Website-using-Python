{
  "nbformat": 4,
  "nbformat_minor": 0,
  "metadata": {
    "colab": {
      "provenance": [],
      "authorship_tag": "ABX9TyMpUFwwgK19Cc7pjL5/xRxi",
      "include_colab_link": true
    },
    "kernelspec": {
      "name": "python3",
      "display_name": "Python 3"
    },
    "language_info": {
      "name": "python"
    }
  },
  "cells": [
    {
      "cell_type": "markdown",
      "metadata": {
        "id": "view-in-github",
        "colab_type": "text"
      },
      "source": [
        "<a href=\"https://colab.research.google.com/github/emmanguyen0602/Scrape-Table-from-Website-using-Python/blob/main/Guide_to_Scrape_Data_from_a_Website_using_Python.ipynb\" target=\"_parent\"><img src=\"https://colab.research.google.com/assets/colab-badge.svg\" alt=\"Open In Colab\"/></a>"
      ]
    },
    {
      "cell_type": "markdown",
      "source": [
        "#STEP 1. INSTALLING LIBRARIES\n",
        "1. BeautifulSoup4\n",
        "2. Requests\n",
        "3. Pandas\n",
        "4. lxml"
      ],
      "metadata": {
        "id": "_8zswPX5bQ6g"
      }
    },
    {
      "cell_type": "markdown",
      "source": [
        "#STEP 2. IMPORT LIBRARIES"
      ],
      "metadata": {
        "id": "GZTACK-9eHXX"
      }
    },
    {
      "cell_type": "code",
      "source": [
        "from bs4 import BeautifulSoup\n",
        "import requests\n",
        "import pandas as pd"
      ],
      "metadata": {
        "id": "1eEzNFwfk1zP"
      },
      "execution_count": 1,
      "outputs": []
    },
    {
      "cell_type": "markdown",
      "source": [
        "#STEP 3. SELECTING PAGE"
      ],
      "metadata": {
        "id": "aVUmxHXklCFj"
      }
    },
    {
      "cell_type": "markdown",
      "source": [
        "#STEP 4. REQUEST PERMISSION"
      ],
      "metadata": {
        "id": "Z6icVOCHlRj7"
      }
    },
    {
      "cell_type": "code",
      "source": [
        "# Define URL\n",
        "url = \"https://webscraper.io/test-sites/e-commerce/allinone/computers/laptops\"\n",
        "# Ask hosting server to fetch url\n",
        "pages = requests.get(url)\n",
        "soup = BeautifulSoup(pages.text, 'lxml')"
      ],
      "metadata": {
        "id": "NqQL44dQlV-S"
      },
      "execution_count": 2,
      "outputs": []
    },
    {
      "cell_type": "markdown",
      "source": [
        "#STEP 5. INSPECT TABLE ELEMENT"
      ],
      "metadata": {
        "id": "CWHKpDPMow-0"
      }
    },
    {
      "cell_type": "markdown",
      "source": [
        "#STEP 6. ACCESSING TAGS"
      ],
      "metadata": {
        "id": "cIdqkJGypgHr"
      }
    },
    {
      "cell_type": "code",
      "source": [
        "# Access h1 tag\n",
        "soup.h1"
      ],
      "metadata": {
        "colab": {
          "base_uri": "https://localhost:8080/"
        },
        "id": "DBy7Rf70plj5",
        "outputId": "f4292cda-99f6-4645-9b7a-c00850f4c0c1"
      },
      "execution_count": 3,
      "outputs": [
        {
          "output_type": "execute_result",
          "data": {
            "text/plain": [
              "<h1>Test Sites</h1>"
            ]
          },
          "metadata": {},
          "execution_count": 3
        }
      ]
    },
    {
      "cell_type": "code",
      "source": [
        "# Access header tag\n",
        "soup.header\n",
        "# Access div tag\n",
        "soup.div"
      ],
      "metadata": {
        "id": "31C05Bqiptqj"
      },
      "execution_count": null,
      "outputs": []
    },
    {
      "cell_type": "code",
      "source": [
        "# Access ‘a’ tag in <header>\n",
        "a_start = soup.header.a\n",
        "\n",
        "# Access only the attributes using attrs\n",
        "a_start.attrs"
      ],
      "metadata": {
        "colab": {
          "base_uri": "https://localhost:8080/"
        },
        "id": "WMg5JmEaqNuY",
        "outputId": "faf1d2ca-54a3-4257-dfc9-a91ea12a792b"
      },
      "execution_count": 5,
      "outputs": [
        {
          "output_type": "execute_result",
          "data": {
            "text/plain": [
              "{'data-toggle': 'collapse-side',\n",
              " 'data-target': '.side-collapse',\n",
              " 'data-target-2': '.side-collapse-container'}"
            ]
          },
          "metadata": {},
          "execution_count": 5
        }
      ]
    },
    {
      "cell_type": "code",
      "source": [],
      "metadata": {
        "id": "MA_0Irt2YJlY"
      },
      "execution_count": null,
      "outputs": []
    },
    {
      "cell_type": "markdown",
      "source": [
        "#STEP 7. ACCESSING SPECIFIC ATTRIBUTES OF TAGS"
      ],
      "metadata": {
        "id": "Z0QawassYbng"
      }
    },
    {
      "cell_type": "code",
      "source": [
        "# Searching specific attributes of tags\n",
        "soup.find(\"h4\", class_= \"pull-right price\") #the price is located on tag h4 and class pull-right price"
      ],
      "metadata": {
        "colab": {
          "base_uri": "https://localhost:8080/"
        },
        "id": "4Xpjq3xtYwoM",
        "outputId": "ecbe9359-0329-4e58-dfb3-697517cd16a7"
      },
      "execution_count": 6,
      "outputs": [
        {
          "output_type": "execute_result",
          "data": {
            "text/plain": [
              "<h4 class=\"pull-right price\">$295.99</h4>"
            ]
          },
          "metadata": {},
          "execution_count": 6
        }
      ]
    },
    {
      "cell_type": "markdown",
      "source": [
        "$295.99 is the attribute (string) of the h4"
      ],
      "metadata": {
        "id": "LcelacezZClA"
      }
    },
    {
      "cell_type": "code",
      "source": [
        "# Using find_all\n",
        "soup.find_all(\"h4\", class_= \"pull-right price\")[2:5] #we want to see only index 3 to 5."
      ],
      "metadata": {
        "colab": {
          "base_uri": "https://localhost:8080/"
        },
        "id": "v400vazIZD07",
        "outputId": "12f248ff-204d-4de3-e4fd-c004cf759897"
      },
      "execution_count": 9,
      "outputs": [
        {
          "output_type": "execute_result",
          "data": {
            "text/plain": [
              "[<h4 class=\"pull-right price\">$299.00</h4>,\n",
              " <h4 class=\"pull-right price\">$306.99</h4>,\n",
              " <h4 class=\"pull-right price\">$321.94</h4>]"
            ]
          },
          "metadata": {},
          "execution_count": 9
        }
      ]
    },
    {
      "cell_type": "markdown",
      "source": [
        "#STEP 8. USING FILTER"
      ],
      "metadata": {
        "id": "0Hak1r_1ZeXT"
      }
    },
    {
      "cell_type": "code",
      "source": [
        "# Using filter to find multiple tags\n",
        "soup.find_all(['h4', 'a', 'p'])\n",
        "soup.find_all(['header', 'div'])\n",
        "soup.find_all(id = True) # class and id are special attribute so it can be written like this\n",
        "soup.find_all(class_= True)"
      ],
      "metadata": {
        "id": "kbjnnud2ZjtK"
      },
      "execution_count": null,
      "outputs": []
    },
    {
      "cell_type": "markdown",
      "source": [
        "Class and id are special attributes so you can write class_ and id instead of ‘class’ or ‘id’"
      ],
      "metadata": {
        "id": "WSpdYtv4Z8AG"
      }
    },
    {
      "cell_type": "code",
      "source": [
        "#Filter by name/price/review/description\n",
        "name = soup.find_all(\"a\", class_=\"title\")\n",
        "price = soup.find_all(\"h4\", class_=\"pull-right price\")\n",
        "reviews = soup.find_all(\"p\", class_=\"pull-right\")\n",
        "description = soup.find_all(\"p\", class_=\"description\")"
      ],
      "metadata": {
        "id": "jcqOrNmoaNPs"
      },
      "execution_count": 12,
      "outputs": []
    },
    {
      "cell_type": "code",
      "source": [
        "name[:10]"
      ],
      "metadata": {
        "colab": {
          "base_uri": "https://localhost:8080/"
        },
        "id": "8mQgvrRtak8p",
        "outputId": "859eb92d-0c77-4c2d-e5c3-56d4a605b7c8"
      },
      "execution_count": 14,
      "outputs": [
        {
          "output_type": "execute_result",
          "data": {
            "text/plain": [
              "[<a class=\"title\" href=\"/test-sites/e-commerce/allinone/product/545\" title=\"Asus VivoBook X441NA-GA190\">Asus VivoBook X4...</a>,\n",
              " <a class=\"title\" href=\"/test-sites/e-commerce/allinone/product/546\" title=\"Prestigio SmartBook 133S Dark Grey\">Prestigio SmartB...</a>,\n",
              " <a class=\"title\" href=\"/test-sites/e-commerce/allinone/product/547\" title=\"Prestigio SmartBook 133S Gold\">Prestigio SmartB...</a>,\n",
              " <a class=\"title\" href=\"/test-sites/e-commerce/allinone/product/517\" title=\"Aspire E1-510\">Aspire E1-510</a>,\n",
              " <a class=\"title\" href=\"/test-sites/e-commerce/allinone/product/548\" title=\"Lenovo V110-15IAP\">Lenovo V110-15IA...</a>,\n",
              " <a class=\"title\" href=\"/test-sites/e-commerce/allinone/product/549\" title=\"Lenovo V110-15IAP\">Lenovo V110-15IA...</a>,\n",
              " <a class=\"title\" href=\"/test-sites/e-commerce/allinone/product/550\" title=\"Hewlett Packard 250 G6 Dark Ash Silver\">Hewlett Packard...</a>,\n",
              " <a class=\"title\" href=\"/test-sites/e-commerce/allinone/product/551\" title=\"Acer Aspire 3 A315-31 Black\">Acer Aspire 3 A3...</a>,\n",
              " <a class=\"title\" href=\"/test-sites/e-commerce/allinone/product/552\" title=\"Acer Aspire A315-31-C33J\">Acer Aspire A315...</a>,\n",
              " <a class=\"title\" href=\"/test-sites/e-commerce/allinone/product/553\" title=\"Acer Aspire ES1-572 Black\">Acer Aspire ES1-...</a>]"
            ]
          },
          "metadata": {},
          "execution_count": 14
        }
      ]
    },
    {
      "cell_type": "code",
      "source": [
        "price[:10]"
      ],
      "metadata": {
        "colab": {
          "base_uri": "https://localhost:8080/"
        },
        "id": "B1mTI6JYbRra",
        "outputId": "0c344efa-9827-46de-9cbb-6c2c4e6486a2"
      },
      "execution_count": 15,
      "outputs": [
        {
          "output_type": "execute_result",
          "data": {
            "text/plain": [
              "[<h4 class=\"pull-right price\">$295.99</h4>,\n",
              " <h4 class=\"pull-right price\">$299.00</h4>,\n",
              " <h4 class=\"pull-right price\">$299.00</h4>,\n",
              " <h4 class=\"pull-right price\">$306.99</h4>,\n",
              " <h4 class=\"pull-right price\">$321.94</h4>,\n",
              " <h4 class=\"pull-right price\">$356.49</h4>,\n",
              " <h4 class=\"pull-right price\">$364.46</h4>,\n",
              " <h4 class=\"pull-right price\">$372.70</h4>,\n",
              " <h4 class=\"pull-right price\">$379.94</h4>,\n",
              " <h4 class=\"pull-right price\">$379.95</h4>]"
            ]
          },
          "metadata": {},
          "execution_count": 15
        }
      ]
    },
    {
      "cell_type": "markdown",
      "source": [
        "#STEP 9. CLEANING OUTPUT RESULTS FROM FILTER\n",
        "- Use text function to clean the html format"
      ],
      "metadata": {
        "id": "sGdfk25kbUnw"
      }
    },
    {
      "cell_type": "markdown",
      "source": [
        "Text can be used to filter strings from the HTML code however we need to define a new variable, for example:"
      ],
      "metadata": {
        "id": "rTFaUI8Ncpmp"
      }
    },
    {
      "cell_type": "code",
      "source": [
        "# Try to call price\n",
        "price1 = soup.find(\"h4\", class_ = \"pull-right price\")\n",
        "price1.text"
      ],
      "metadata": {
        "colab": {
          "base_uri": "https://localhost:8080/",
          "height": 35
        },
        "id": "XZ0R-TjCbgM9",
        "outputId": "451f51d3-f8c2-4aa9-b29e-39f6b3f78d5a"
      },
      "execution_count": 19,
      "outputs": [
        {
          "output_type": "execute_result",
          "data": {
            "text/plain": [
              "'$295.99'"
            ],
            "application/vnd.google.colaboratory.intrinsic+json": {
              "type": "string"
            }
          },
          "metadata": {},
          "execution_count": 19
        }
      ]
    },
    {
      "cell_type": "markdown",
      "source": [
        "#STEP 10. CREATE A FOR LOOP TO MAKE STRING INTO LIST"
      ],
      "metadata": {
        "id": "qKPgBEhCcrcx"
      }
    },
    {
      "cell_type": "code",
      "source": [
        "# Create for loop to make string from find_all list\n",
        "product_name_list = []\n",
        "for i in name:\n",
        " name = i.text\n",
        " product_name_list.append(name)\n",
        "price_list = []\n",
        "for i in price:\n",
        " price = i.text\n",
        " price_list.append(price)\n",
        " \n",
        "review_list = []\n",
        "for i in reviews:\n",
        " rev = i.text\n",
        " review_list.append(rev)\n",
        " \n",
        "description_list = []\n",
        "for i in description:\n",
        " desc = i.text\n",
        " description_list.append(desc)"
      ],
      "metadata": {
        "id": "iWtXu_AUc0cl"
      },
      "execution_count": 20,
      "outputs": []
    },
    {
      "cell_type": "markdown",
      "source": [
        "#STEP 11. CREATE A DATAFRAME FROM LIST"
      ],
      "metadata": {
        "id": "FatLMpj8dBtD"
      }
    },
    {
      "cell_type": "code",
      "source": [
        "# Create dataframe\n",
        "table=pd.DataFrame({\"Product Name\": product_name_list, \"Price\": price_list, \"Review\": review_list, \"Description\": description_list})\n",
        "table"
      ],
      "metadata": {
        "colab": {
          "base_uri": "https://localhost:8080/",
          "height": 783
        },
        "id": "W1tse9dNdHUw",
        "outputId": "fe78df97-3f65-4f46-8b63-e147c28e021e"
      },
      "execution_count": 22,
      "outputs": [
        {
          "output_type": "execute_result",
          "data": {
            "text/plain": [
              "            Product Name     Price      Review  \\\n",
              "0    Asus VivoBook X4...   $295.99  14 reviews   \n",
              "1    Prestigio SmartB...   $299.00   8 reviews   \n",
              "2    Prestigio SmartB...   $299.00  12 reviews   \n",
              "3          Aspire E1-510   $306.99   2 reviews   \n",
              "4    Lenovo V110-15IA...   $321.94   5 reviews   \n",
              "..                   ...       ...         ...   \n",
              "112  Lenovo Legion Y7...  $1399.00   8 reviews   \n",
              "113  Asus ROG Strix G...  $1399.00  10 reviews   \n",
              "114  Asus ROG Strix G...  $1769.00   7 reviews   \n",
              "115  Asus ROG Strix G...  $1769.00   8 reviews   \n",
              "116  Asus ROG Strix S...  $1799.00   8 reviews   \n",
              "\n",
              "                                           Description  \n",
              "0    Asus VivoBook X441NA-GA190 Chocolate Black, 14...  \n",
              "1    Prestigio SmartBook 133S Dark Grey, 13.3\" FHD ...  \n",
              "2    Prestigio SmartBook 133S Gold, 13.3\" FHD IPS, ...  \n",
              "3      15.6\", Pentium N3520 2.16GHz, 4GB, 500GB, Linux  \n",
              "4    Lenovo V110-15IAP, 15.6\" HD, Celeron N3350 1.1...  \n",
              "..                                                 ...  \n",
              "112  Lenovo Legion Y720, 15.6\" FHD IPS, Core i7-770...  \n",
              "113  Asus ROG Strix GL702VM-GC146T, 17.3\" FHD, Core...  \n",
              "114  Asus ROG Strix GL702ZC-GC154T, 17.3\" FHD, Ryze...  \n",
              "115  Asus ROG Strix GL702ZC-GC209T, 17.3\" FHD IPS, ...  \n",
              "116  Asus ROG Strix SCAR Edition GL503VM-ED115T, 15...  \n",
              "\n",
              "[117 rows x 4 columns]"
            ],
            "text/html": [
              "\n",
              "  <div id=\"df-b2a55691-be06-45f7-a327-a1c84049d7f8\">\n",
              "    <div class=\"colab-df-container\">\n",
              "      <div>\n",
              "<style scoped>\n",
              "    .dataframe tbody tr th:only-of-type {\n",
              "        vertical-align: middle;\n",
              "    }\n",
              "\n",
              "    .dataframe tbody tr th {\n",
              "        vertical-align: top;\n",
              "    }\n",
              "\n",
              "    .dataframe thead th {\n",
              "        text-align: right;\n",
              "    }\n",
              "</style>\n",
              "<table border=\"1\" class=\"dataframe\">\n",
              "  <thead>\n",
              "    <tr style=\"text-align: right;\">\n",
              "      <th></th>\n",
              "      <th>Product Name</th>\n",
              "      <th>Price</th>\n",
              "      <th>Review</th>\n",
              "      <th>Description</th>\n",
              "    </tr>\n",
              "  </thead>\n",
              "  <tbody>\n",
              "    <tr>\n",
              "      <th>0</th>\n",
              "      <td>Asus VivoBook X4...</td>\n",
              "      <td>$295.99</td>\n",
              "      <td>14 reviews</td>\n",
              "      <td>Asus VivoBook X441NA-GA190 Chocolate Black, 14...</td>\n",
              "    </tr>\n",
              "    <tr>\n",
              "      <th>1</th>\n",
              "      <td>Prestigio SmartB...</td>\n",
              "      <td>$299.00</td>\n",
              "      <td>8 reviews</td>\n",
              "      <td>Prestigio SmartBook 133S Dark Grey, 13.3\" FHD ...</td>\n",
              "    </tr>\n",
              "    <tr>\n",
              "      <th>2</th>\n",
              "      <td>Prestigio SmartB...</td>\n",
              "      <td>$299.00</td>\n",
              "      <td>12 reviews</td>\n",
              "      <td>Prestigio SmartBook 133S Gold, 13.3\" FHD IPS, ...</td>\n",
              "    </tr>\n",
              "    <tr>\n",
              "      <th>3</th>\n",
              "      <td>Aspire E1-510</td>\n",
              "      <td>$306.99</td>\n",
              "      <td>2 reviews</td>\n",
              "      <td>15.6\", Pentium N3520 2.16GHz, 4GB, 500GB, Linux</td>\n",
              "    </tr>\n",
              "    <tr>\n",
              "      <th>4</th>\n",
              "      <td>Lenovo V110-15IA...</td>\n",
              "      <td>$321.94</td>\n",
              "      <td>5 reviews</td>\n",
              "      <td>Lenovo V110-15IAP, 15.6\" HD, Celeron N3350 1.1...</td>\n",
              "    </tr>\n",
              "    <tr>\n",
              "      <th>...</th>\n",
              "      <td>...</td>\n",
              "      <td>...</td>\n",
              "      <td>...</td>\n",
              "      <td>...</td>\n",
              "    </tr>\n",
              "    <tr>\n",
              "      <th>112</th>\n",
              "      <td>Lenovo Legion Y7...</td>\n",
              "      <td>$1399.00</td>\n",
              "      <td>8 reviews</td>\n",
              "      <td>Lenovo Legion Y720, 15.6\" FHD IPS, Core i7-770...</td>\n",
              "    </tr>\n",
              "    <tr>\n",
              "      <th>113</th>\n",
              "      <td>Asus ROG Strix G...</td>\n",
              "      <td>$1399.00</td>\n",
              "      <td>10 reviews</td>\n",
              "      <td>Asus ROG Strix GL702VM-GC146T, 17.3\" FHD, Core...</td>\n",
              "    </tr>\n",
              "    <tr>\n",
              "      <th>114</th>\n",
              "      <td>Asus ROG Strix G...</td>\n",
              "      <td>$1769.00</td>\n",
              "      <td>7 reviews</td>\n",
              "      <td>Asus ROG Strix GL702ZC-GC154T, 17.3\" FHD, Ryze...</td>\n",
              "    </tr>\n",
              "    <tr>\n",
              "      <th>115</th>\n",
              "      <td>Asus ROG Strix G...</td>\n",
              "      <td>$1769.00</td>\n",
              "      <td>8 reviews</td>\n",
              "      <td>Asus ROG Strix GL702ZC-GC209T, 17.3\" FHD IPS, ...</td>\n",
              "    </tr>\n",
              "    <tr>\n",
              "      <th>116</th>\n",
              "      <td>Asus ROG Strix S...</td>\n",
              "      <td>$1799.00</td>\n",
              "      <td>8 reviews</td>\n",
              "      <td>Asus ROG Strix SCAR Edition GL503VM-ED115T, 15...</td>\n",
              "    </tr>\n",
              "  </tbody>\n",
              "</table>\n",
              "<p>117 rows × 4 columns</p>\n",
              "</div>\n",
              "      <button class=\"colab-df-convert\" onclick=\"convertToInteractive('df-b2a55691-be06-45f7-a327-a1c84049d7f8')\"\n",
              "              title=\"Convert this dataframe to an interactive table.\"\n",
              "              style=\"display:none;\">\n",
              "        \n",
              "  <svg xmlns=\"http://www.w3.org/2000/svg\" height=\"24px\"viewBox=\"0 0 24 24\"\n",
              "       width=\"24px\">\n",
              "    <path d=\"M0 0h24v24H0V0z\" fill=\"none\"/>\n",
              "    <path d=\"M18.56 5.44l.94 2.06.94-2.06 2.06-.94-2.06-.94-.94-2.06-.94 2.06-2.06.94zm-11 1L8.5 8.5l.94-2.06 2.06-.94-2.06-.94L8.5 2.5l-.94 2.06-2.06.94zm10 10l.94 2.06.94-2.06 2.06-.94-2.06-.94-.94-2.06-.94 2.06-2.06.94z\"/><path d=\"M17.41 7.96l-1.37-1.37c-.4-.4-.92-.59-1.43-.59-.52 0-1.04.2-1.43.59L10.3 9.45l-7.72 7.72c-.78.78-.78 2.05 0 2.83L4 21.41c.39.39.9.59 1.41.59.51 0 1.02-.2 1.41-.59l7.78-7.78 2.81-2.81c.8-.78.8-2.07 0-2.86zM5.41 20L4 18.59l7.72-7.72 1.47 1.35L5.41 20z\"/>\n",
              "  </svg>\n",
              "      </button>\n",
              "      \n",
              "  <style>\n",
              "    .colab-df-container {\n",
              "      display:flex;\n",
              "      flex-wrap:wrap;\n",
              "      gap: 12px;\n",
              "    }\n",
              "\n",
              "    .colab-df-convert {\n",
              "      background-color: #E8F0FE;\n",
              "      border: none;\n",
              "      border-radius: 50%;\n",
              "      cursor: pointer;\n",
              "      display: none;\n",
              "      fill: #1967D2;\n",
              "      height: 32px;\n",
              "      padding: 0 0 0 0;\n",
              "      width: 32px;\n",
              "    }\n",
              "\n",
              "    .colab-df-convert:hover {\n",
              "      background-color: #E2EBFA;\n",
              "      box-shadow: 0px 1px 2px rgba(60, 64, 67, 0.3), 0px 1px 3px 1px rgba(60, 64, 67, 0.15);\n",
              "      fill: #174EA6;\n",
              "    }\n",
              "\n",
              "    [theme=dark] .colab-df-convert {\n",
              "      background-color: #3B4455;\n",
              "      fill: #D2E3FC;\n",
              "    }\n",
              "\n",
              "    [theme=dark] .colab-df-convert:hover {\n",
              "      background-color: #434B5C;\n",
              "      box-shadow: 0px 1px 3px 1px rgba(0, 0, 0, 0.15);\n",
              "      filter: drop-shadow(0px 1px 2px rgba(0, 0, 0, 0.3));\n",
              "      fill: #FFFFFF;\n",
              "    }\n",
              "  </style>\n",
              "\n",
              "      <script>\n",
              "        const buttonEl =\n",
              "          document.querySelector('#df-b2a55691-be06-45f7-a327-a1c84049d7f8 button.colab-df-convert');\n",
              "        buttonEl.style.display =\n",
              "          google.colab.kernel.accessAllowed ? 'block' : 'none';\n",
              "\n",
              "        async function convertToInteractive(key) {\n",
              "          const element = document.querySelector('#df-b2a55691-be06-45f7-a327-a1c84049d7f8');\n",
              "          const dataTable =\n",
              "            await google.colab.kernel.invokeFunction('convertToInteractive',\n",
              "                                                     [key], {});\n",
              "          if (!dataTable) return;\n",
              "\n",
              "          const docLinkHtml = 'Like what you see? Visit the ' +\n",
              "            '<a target=\"_blank\" href=https://colab.research.google.com/notebooks/data_table.ipynb>data table notebook</a>'\n",
              "            + ' to learn more about interactive tables.';\n",
              "          element.innerHTML = '';\n",
              "          dataTable['output_type'] = 'display_data';\n",
              "          await google.colab.output.renderOutput(dataTable, element);\n",
              "          const docLink = document.createElement('div');\n",
              "          docLink.innerHTML = docLinkHtml;\n",
              "          element.appendChild(docLink);\n",
              "        }\n",
              "      </script>\n",
              "    </div>\n",
              "  </div>\n",
              "  "
            ]
          },
          "metadata": {},
          "execution_count": 22
        }
      ]
    },
    {
      "cell_type": "code",
      "source": [],
      "metadata": {
        "id": "_y3HN34udK5y"
      },
      "execution_count": null,
      "outputs": []
    }
  ]
}