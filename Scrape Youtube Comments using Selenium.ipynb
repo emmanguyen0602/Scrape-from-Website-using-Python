{
 "cells": [
  {
   "cell_type": "code",
   "execution_count": 2,
   "id": "df3568df",
   "metadata": {},
   "outputs": [],
   "source": [
    "import numpy as np\n",
    "from selenium import webdriver\n",
    "from selenium.webdriver.chrome.service import Service\n",
    "\n",
    "from time import sleep\n",
    "import random\n",
    "from selenium.common.exceptions import NoSuchElementException, ElementNotInteractableException, ElementClickInterceptedException\n",
    "from selenium.webdriver.common.by import By\n",
    "import pandas as pd"
   ]
  },
  {
   "cell_type": "code",
   "execution_count": 121,
   "id": "32831946",
   "metadata": {},
   "outputs": [],
   "source": [
    "# Declare browser\n",
    "s = Service('C://Users//hantt3//Downloads//chromedriver_win32')\n",
    "driver = webdriver.Chrome(service=s)\n",
    "url = 'https://www.youtube.com/watch?v=uKB7FK2ZLRc'"
   ]
  },
  {
   "cell_type": "code",
   "execution_count": 122,
   "id": "2810d554",
   "metadata": {},
   "outputs": [],
   "source": [
    "\n",
    "def scrape(url):\n",
    "\n",
    "    driver.get(url)\n",
    "    driver.maximize_window()\n",
    "    sleep(5)\n",
    "    \n",
    "    name_comment, text_comment = [], []\n",
    "    try:\n",
    "        # Extract the elements storing the video title and\n",
    "        # comment section.\n",
    "        title = driver.find_element(By.XPATH, '//*[@id=\"title\"]/h1/yt-formatted-string').text\n",
    "        comment_section = driver.find_element(By.XPATH, '//*[@id=\"comments\"]')\n",
    "    except NoSuchElementException:\n",
    "\n",
    "        print(\"NoSuchElementException\")\n",
    "\n",
    "    # Scroll into view the comment section, then allow some time\n",
    "    # for everything to be loaded as necessary.\n",
    "    driver.execute_script(\"arguments[0].scrollIntoView();\", comment_section)\n",
    "    time.sleep(7)\n",
    "\n",
    "    # Scroll all the way down to the bottom in order to get all the\n",
    "    # elements loaded (since Youtube dynamically loads them).\n",
    "    last_height = driver.execute_script(\"return document.documentElement.scrollHeight\")\n",
    "\n",
    "    while True:\n",
    "        # Scroll down 'til \"next load\".\n",
    "        driver.execute_script(\"window.scrollTo(0, document.documentElement.scrollHeight);\")\n",
    "\n",
    "        # Wait to load everything thus far.\n",
    "        sleep(2)\n",
    "\n",
    "        # Calculate new scroll height and compare with last scroll height.\n",
    "        new_height = driver.execute_script(\"return document.documentElement.scrollHeight\")\n",
    "        if new_height == last_height:\n",
    "            break\n",
    "        last_height = new_height\n",
    "\n",
    "    # One last scroll just in case.\n",
    "    driver.execute_script(\"window.scrollTo(0, document.documentElement.scrollHeight);\")\n",
    "\n",
    "    try:\n",
    "        # Extract the elements storing the usernames and comments.\n",
    "        username_elems = driver.find_elements(By.XPATH, '//*[@id=\"author-text\"]')\n",
    "        name_comment = [elem.text for elem in username_elems] + name_comment\n",
    "        comment_elems = driver.find_elements(By.XPATH, '//*[@id=\"content-text\"]')\n",
    "        text_comment = [elem.text for elem in comment_elems] + text_comment\n",
    "    except NoSuchElementException:\n",
    "        print('NoSuchElementException')\n",
    "\n",
    "    print(\"> VIDEO TITLE: \" + title + \"\\n\")\n",
    "\n",
    "    df = pd.DataFrame(list(zip(name_comment, text_comment)), \n",
    "                   columns = ['name_comment', 'content_comment'])\n",
    "\n",
    "    return df\n",
    "    driver.close()"
   ]
  },
  {
   "cell_type": "code",
   "execution_count": 123,
   "id": "63979994",
   "metadata": {},
   "outputs": [
    {
     "name": "stdout",
     "output_type": "stream",
     "text": [
      "> VIDEO TITLE: Về già tưởng có tiền vào viện dưỡng lão không phiền con cháu để rồi vỡ mộng - Chân Thiện Mỹ\n",
      "\n"
     ]
    }
   ],
   "source": [
    "data = scrape(url)"
   ]
  },
  {
   "cell_type": "code",
   "execution_count": 125,
   "id": "31aae3ed",
   "metadata": {},
   "outputs": [
    {
     "data": {
      "text/plain": [
       "(125, 2)"
      ]
     },
     "execution_count": 125,
     "metadata": {},
     "output_type": "execute_result"
    }
   ],
   "source": [
    "data.shape"
   ]
  },
  {
   "cell_type": "code",
   "execution_count": 126,
   "id": "ea965719",
   "metadata": {},
   "outputs": [],
   "source": [
    "#convert to csv file\n",
    "data.to_csv(\"commentYoutube.csv\", index = False)"
   ]
  }
 ],
 "metadata": {
  "kernelspec": {
   "display_name": "Python 3 (ipykernel)",
   "language": "python",
   "name": "python3"
  },
  "language_info": {
   "codemirror_mode": {
    "name": "ipython",
    "version": 3
   },
   "file_extension": ".py",
   "mimetype": "text/x-python",
   "name": "python",
   "nbconvert_exporter": "python",
   "pygments_lexer": "ipython3",
   "version": "3.10.9"
  }
 },
 "nbformat": 4,
 "nbformat_minor": 5
}
